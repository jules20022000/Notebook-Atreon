{
 "cells": [
  {
   "cell_type": "markdown",
   "id": "7eeb5ab3",
   "metadata": {},
   "source": [
    "# ALGORITHMS TO DETECT KEY WORDS IN A TEXT SECTION "
   ]
  },
  {
   "cell_type": "markdown",
   "id": "815f6877",
   "metadata": {},
   "source": [
    "INSTALLER VISUAL STUDIO "
   ]
  },
  {
   "cell_type": "markdown",
   "id": "cee3796d",
   "metadata": {},
   "source": [
    "What we have to do ? \n",
    "\n",
    "Probably a keyword detection and then a keyword assignment to detect important word and then cluster them into more generals or equivalent words (ex : \"j'ai joue...\" --> \"loisirs\") and then conclude to give more advices for the patient."
   ]
  },
  {
   "cell_type": "markdown",
   "id": "3abfb228",
   "metadata": {},
   "source": [
    "# First approach"
   ]
  },
  {
   "cell_type": "markdown",
   "id": "8015673a",
   "metadata": {},
   "source": [
    "In my little helper, user enters a text on what helped them. With MonkeyLearn we can classify it into a \"subject\" (sport, relaxation, intellect. activity, etc...). And depending on age/menopause/activity/obesity of the user we put the \"subject\" into a list and propose this list ot user of same category."
   ]
  },
  {
   "cell_type": "markdown",
   "id": "6b11987a",
   "metadata": {},
   "source": [
    "For ex:\n",
    "- an obese user said that an healthy food week was really good for him. \n",
    "- an old person --> some medications to sleep \n",
    "- a menopause woman --> running 3 days a week "
   ]
  },
  {
   "cell_type": "markdown",
   "id": "2774dd34",
   "metadata": {},
   "source": [
    "So we classify the 1st person, given weight and size as an obese person. \\\n",
    "The 2nd one given its age into an old person.\\\n",
    "The 3rd one given age and sexe (or with a question maybe ?) into a menopaused woman "
   ]
  },
  {
   "cell_type": "markdown",
   "id": "4c267c0b",
   "metadata": {},
   "source": [
    "Then we classify their text into subject : \\\n",
    "1st --> food\\\n",
    "2nd --> medications\\\n",
    "3rd --> sport"
   ]
  },
  {
   "cell_type": "code",
   "execution_count": 44,
   "id": "342240c2",
   "metadata": {},
   "outputs": [],
   "source": [
    "obese_advises = [\"food\"]\n",
    "old_advises = [\"medications\"]\n",
    "menopause_advises = [\"sport\"]\n",
    "\n",
    "# another obese user said that talk to others people, maybe a group also in overweight, helped a lot \n",
    "# so its texte will be classified into another category called \"talk\" for ex\n",
    "obese_advises.append(\"talk\")\n",
    "\n",
    "\n"
   ]
  },
  {
   "cell_type": "markdown",
   "id": "381ec04f",
   "metadata": {},
   "source": [
    "So now when an obese person come to the application we can have a \"rubrique\" \"What helped people with similair symptoms.\" where we output the list FOOD, TALK.\n",
    "Same principe for others persons."
   ]
  },
  {
   "cell_type": "markdown",
   "id": "d57ed59e",
   "metadata": {},
   "source": [
    "# Test to detect KeyWords "
   ]
  },
  {
   "cell_type": "code",
   "execution_count": 55,
   "id": "c3f27769",
   "metadata": {},
   "outputs": [],
   "source": [
    "from rake_nltk import Rake\n",
    "import numpy as np "
   ]
  },
  {
   "cell_type": "code",
   "execution_count": 74,
   "id": "fb36b2e6",
   "metadata": {},
   "outputs": [
    {
     "name": "stdout",
     "output_type": "stream",
     "text": [
      "1\n",
      "[2, 3, 4, 5]\n",
      "[array(['aide pour perdre quelques kilos', 'ai pas mangé de gras',\n",
      "       'etait difficile mais cela'], dtype='<U31')]\n",
      "[array(['ai bu beaucoup de thé', 'ai fait du yoga', 'et j'], dtype='<U21')]\n",
      "[array(['ai regarde la télévision', 'ai fait du sport', 'ai moins mangé'],\n",
      "      dtype='<U24')]\n"
     ]
    }
   ],
   "source": [
    "# consider that categories of people are numbers and for the moment users can only be one categorie at a time \n",
    "# 0 for obeses, 1 for old ...\n",
    "\n",
    "obese_list_advices = []\n",
    "menopause_list_advices = []\n",
    "old_list_advices = []\n",
    "sportmen_list_advices = []\n",
    "\n",
    "\n",
    "def append_3_best_advices(category, arr_keywords):\n",
    "    if (category == 0):\n",
    "        obese_list_advices.append(arr_keywords[:3])\n",
    "    if (category == 1):\n",
    "        old_list_advices.append(arr_keywords[:3])\n",
    "    if (category == 2):\n",
    "        menopause_list_advices.append(arr_keywords[:3])\n",
    "        \n",
    "\n",
    "rake_var = Rake()\n",
    "\n",
    "user1 = 0 #this user is obese\n",
    "text_user1 = \"je n'ai pas mangé de gras, c'etait difficile mais cela m'a aide pour perdre quelques kilos.\"\n",
    "rake_var.extract_keywords_from_text(text_user1)\n",
    "keywords = rake_var.get_ranked_phrases()\n",
    "arr_keywords_1 = np.array(keywords)\n",
    "append_3_best_advices(user1, arr_keywords_1)\n",
    "\n",
    "user2 = 1 #this user is old\n",
    "text_user2 = \"J'ai fait du yoga. Et j'ai bu beaucoup de thé\"\n",
    "rake_var.extract_keywords_from_text(text_user2)\n",
    "keywords = rake_var.get_ranked_phrases()\n",
    "arr_keywords_2 = np.array(keywords)\n",
    "append_3_best_advices(user2, arr_keywords_2)\n",
    "\n",
    "user3 = 2 #this user is menopaused \n",
    "text_user3 = \"J'ai moins mangé. J'ai regarde la télévision. J'ai fait du sport\"\n",
    "rake_var.extract_keywords_from_text(text_user3)\n",
    "keywords = rake_var.get_ranked_phrases()\n",
    "arr_keywords_3 = np.array(keywords)\n",
    "append_3_best_advices(user3, arr_keywords_3)\n",
    "\n",
    "print(obese_list_advices)\n",
    "print(old_list_advices) \n",
    "print(menopause_list_advices) \n"
   ]
  },
  {
   "cell_type": "code",
   "execution_count": null,
   "id": "3afd4532",
   "metadata": {},
   "outputs": [],
   "source": []
  }
 ],
 "metadata": {
  "kernelspec": {
   "display_name": "Python 3 (ipykernel)",
   "language": "python",
   "name": "python3"
  },
  "language_info": {
   "codemirror_mode": {
    "name": "ipython",
    "version": 3
   },
   "file_extension": ".py",
   "mimetype": "text/x-python",
   "name": "python",
   "nbconvert_exporter": "python",
   "pygments_lexer": "ipython3",
   "version": "3.9.6"
  }
 },
 "nbformat": 4,
 "nbformat_minor": 5
}
