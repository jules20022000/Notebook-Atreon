{
 "cells": [
  {
   "cell_type": "markdown",
   "id": "d2fbff16",
   "metadata": {},
   "source": [
    "# ALGORITHMS TO DETECT KEY WORDS IN A TEXT SECTION "
   ]
  },
  {
   "cell_type": "markdown",
   "id": "79bc1b06",
   "metadata": {},
   "source": [
    "INSTALLER VISUAL STUDIO "
   ]
  },
  {
   "cell_type": "code",
   "execution_count": null,
   "id": "19a7b87a",
   "metadata": {},
   "outputs": [],
   "source": []
  }
 ],
 "metadata": {
  "kernelspec": {
   "display_name": "Python 3",
   "language": "python",
   "name": "python3"
  },
  "language_info": {
   "codemirror_mode": {
    "name": "ipython",
    "version": 3
   },
   "file_extension": ".py",
   "mimetype": "text/x-python",
   "name": "python",
   "nbconvert_exporter": "python",
   "pygments_lexer": "ipython3",
   "version": "3.8.8"
  }
 },
 "nbformat": 4,
 "nbformat_minor": 5
}
