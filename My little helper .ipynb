{
 "cells": [
  {
   "cell_type": "markdown",
   "id": "7eeb5ab3",
   "metadata": {},
   "source": [
    "# ALGORITHMS TO DETECT KEY WORDS IN A TEXT SECTION "
   ]
  },
  {
   "cell_type": "markdown",
   "id": "815f6877",
   "metadata": {},
   "source": [
    "INSTALLER VISUAL STUDIO "
   ]
  },
  {
   "cell_type": "markdown",
   "id": "cee3796d",
   "metadata": {},
   "source": [
    "What we have to do ? \n",
    "\n",
    "Probably a keyword detection and then a keyword assignment to detect important word and then cluster them into more generals or equivalent words (ex : \"j'ai joue...\" --> \"loisirs\") and then conclude to give more advices for the patient."
   ]
  },
  {
   "cell_type": "code",
   "execution_count": 27,
   "id": "35926377",
   "metadata": {},
   "outputs": [
    {
     "name": "stdout",
     "output_type": "stream",
     "text": [
      "Aujourd'hui j'ai joue au sudoku sur ma tablette, cela a augmente ma concentration. J'ai aussi fait du yoga avec une amie, ce fut tres benefique. Elle va et je vais\n"
     ]
    }
   ],
   "source": [
    "text = \"Aujourd'hui j'ai joue au sudoku sur ma tablette, cela a augmente ma concentration.\\\n",
    " J'ai aussi fait du yoga avec une amie, ce fut tres benefique. Elle va et je vais\"\n",
    "\n",
    "print(text)"
   ]
  },
  {
   "cell_type": "code",
   "execution_count": 30,
   "id": "382223c8",
   "metadata": {},
   "outputs": [
    {
     "name": "stdout",
     "output_type": "stream",
     "text": [
      "Aujourd'hui\n",
      "j'ai\n",
      "joue\n",
      "au\n",
      "sudoku\n",
      "sur\n",
      "ma\n",
      "tablette,\n",
      "cela\n",
      "a\n",
      "augmente\n",
      "ma\n",
      "concentration.\n",
      "J'ai\n",
      "aussi\n",
      "fait\n",
      "du\n",
      "yoga\n",
      "avec\n",
      "une\n",
      "amie,\n",
      "ce\n",
      "fut\n",
      "tres\n",
      "benefique.\n",
      "va\n",
      "et\n",
      "vais\n"
     ]
    }
   ],
   "source": [
    "pronouns = [\"je\", \"tu\", \"il\", \"elle\", \"on\", \"nous\", \"vous\", \"ils\", \"elles\"]\n",
    "for string in text.split():\n",
    "    if string.lower() not in pronouns:\n",
    "            print(string)\n",
    "    "
   ]
  },
  {
   "cell_type": "code",
   "execution_count": 33,
   "id": "b4e31aae",
   "metadata": {},
   "outputs": [
    {
     "ename": "ModuleNotFoundError",
     "evalue": "No module named 'monkeylearn'",
     "output_type": "error",
     "traceback": [
      "\u001b[1;31m---------------------------------------------------------------------------\u001b[0m",
      "\u001b[1;31mModuleNotFoundError\u001b[0m                       Traceback (most recent call last)",
      "\u001b[1;32m<ipython-input-33-dabf26bdba8f>\u001b[0m in \u001b[0;36m<module>\u001b[1;34m\u001b[0m\n\u001b[1;32m----> 1\u001b[1;33m \u001b[1;32mfrom\u001b[0m \u001b[0mmonkeylearn\u001b[0m \u001b[1;32mimport\u001b[0m \u001b[0mMonkeyLearn\u001b[0m\u001b[1;33m\u001b[0m\u001b[1;33m\u001b[0m\u001b[0m\n\u001b[0m\u001b[0;32m      2\u001b[0m \u001b[1;33m\u001b[0m\u001b[0m\n\u001b[0;32m      3\u001b[0m \u001b[0mml\u001b[0m \u001b[1;33m=\u001b[0m \u001b[0mMonkeyLearn\u001b[0m\u001b[1;33m(\u001b[0m\u001b[1;34m'<<Your API key here>>'\u001b[0m\u001b[1;33m)\u001b[0m\u001b[1;33m\u001b[0m\u001b[1;33m\u001b[0m\u001b[0m\n\u001b[0;32m      4\u001b[0m \u001b[0mdata\u001b[0m \u001b[1;33m=\u001b[0m \u001b[1;33m[\u001b[0m\u001b[1;34m'Very helpful and friendly staff.'\u001b[0m\u001b[1;33m,\u001b[0m\u001b[1;34m'Bed was extremely comfortable.'\u001b[0m\u001b[1;33m]\u001b[0m\u001b[1;33m\u001b[0m\u001b[1;33m\u001b[0m\u001b[0m\n\u001b[0;32m      5\u001b[0m \u001b[0mmodel_id\u001b[0m \u001b[1;33m=\u001b[0m \u001b[1;34m'cl_TKb7XmdG'\u001b[0m\u001b[1;33m\u001b[0m\u001b[1;33m\u001b[0m\u001b[0m\n",
      "\u001b[1;31mModuleNotFoundError\u001b[0m: No module named 'monkeylearn'"
     ]
    }
   ],
   "source": [
    "from monkeylearn import MonkeyLearn\n",
    " \n",
    "ml = MonkeyLearn('<<Your API key here>>')\n",
    "data = ['Very helpful and friendly staff.','Bed was extremely comfortable.']\n",
    "model_id = 'cl_TKb7XmdG'\n",
    "result = ml.classifiers.classify(model_id, data)\n",
    " \n",
    "print(result.body)"
   ]
  },
  {
   "cell_type": "code",
   "execution_count": null,
   "id": "7fba7cc8",
   "metadata": {},
   "outputs": [],
   "source": []
  }
 ],
 "metadata": {
  "kernelspec": {
   "display_name": "Python 3",
   "language": "python",
   "name": "python3"
  },
  "language_info": {
   "codemirror_mode": {
    "name": "ipython",
    "version": 3
   },
   "file_extension": ".py",
   "mimetype": "text/x-python",
   "name": "python",
   "nbconvert_exporter": "python",
   "pygments_lexer": "ipython3",
   "version": "3.8.8"
  }
 },
 "nbformat": 4,
 "nbformat_minor": 5
}
