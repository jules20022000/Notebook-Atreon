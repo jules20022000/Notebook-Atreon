{
 "cells": [
  {
   "cell_type": "markdown",
   "id": "186803e8",
   "metadata": {},
   "source": [
    "# ALGORITHMS TO DETECT KEY WORDS IN A TEXT SECTION "
   ]
  },
  {
   "cell_type": "markdown",
   "id": "615af939",
   "metadata": {},
   "source": [
    "INSTALLER VISUAL STUDIO "
   ]
  },
  {
   "cell_type": "code",
   "execution_count": 6,
   "id": "0803c46c",
   "metadata": {},
   "outputs": [
    {
     "name": "stdout",
     "output_type": "stream",
     "text": [
      "Aujourd'hui j'ai joue au sudoku sur ma tablette, cela a augmente ma concentration. J'ai aussi fait du yoga avec une amie, ce fut tres benefique.\n"
     ]
    }
   ],
   "source": [
    "text = \"Aujourd'hui j'ai joue au sudoku sur ma tablette, cela a augmente ma concentration.\\\n",
    " J'ai aussi fait du yoga avec une amie, ce fut tres benefique.\"\n",
    "\n",
    "print(text)"
   ]
  },
  {
   "cell_type": "code",
   "execution_count": 9,
   "id": "1092fca6",
   "metadata": {},
   "outputs": [
    {
     "name": "stdout",
     "output_type": "stream",
     "text": [
      "Aujourd'hui\n",
      "j'ai\n",
      "joue\n",
      "au\n",
      "sudoku\n",
      "sur\n",
      "ma\n",
      "tablette,\n",
      "cela\n",
      "a\n",
      "augmente\n",
      "ma\n",
      "concentration.\n",
      "J'ai\n",
      "aussi\n",
      "fait\n",
      "du\n",
      "yoga\n",
      "avec\n",
      "une\n",
      "amie,\n",
      "ce\n",
      "fut\n",
      "tres\n",
      "benefique.\n"
     ]
    }
   ],
   "source": [
    "for string in text.split():\n",
    "    \n",
    "    print(string)"
   ]
  },
  {
   "cell_type": "code",
   "execution_count": null,
   "id": "df754409",
   "metadata": {},
   "outputs": [],
   "source": []
  }
 ],
 "metadata": {
  "kernelspec": {
   "display_name": "Python 3",
   "language": "python",
   "name": "python3"
  },
  "language_info": {
   "codemirror_mode": {
    "name": "ipython",
    "version": 3
   },
   "file_extension": ".py",
   "mimetype": "text/x-python",
   "name": "python",
   "nbconvert_exporter": "python",
   "pygments_lexer": "ipython3",
   "version": "3.8.8"
  }
 },
 "nbformat": 4,
 "nbformat_minor": 5
}
