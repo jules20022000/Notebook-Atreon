{
 "cells": [
  {
   "cell_type": "markdown",
   "metadata": {},
   "source": [
    "# PREDICTION OF SS AND DETECT MOST IMPORTANT FEATURES "
   ]
  },
  {
   "cell_type": "markdown",
   "metadata": {},
   "source": [
    "# Prepare the data "
   ]
  },
  {
   "cell_type": "code",
   "execution_count": 1,
   "metadata": {},
   "outputs": [],
   "source": [
    "import pandas as pd\n",
    "import math\n",
    "import numpy as np\n",
    "import matplotlib.pyplot as plt\n",
    "import matplotlib\n",
    "import seaborn as sns\n",
    "import re\n",
    "import scipy\n",
    "\n",
    "import warnings\n",
    "warnings.filterwarnings('ignore')\n",
    "\n",
    "severity_train = pd.read_csv(\"train_handmade.csv\", sep=';')\n",
    "severity_test = pd.read_csv(\"test_handmade.csv\", sep=';')"
   ]
  },
  {
   "cell_type": "code",
   "execution_count": 2,
   "metadata": {},
   "outputs": [
    {
     "name": "stdout",
     "output_type": "stream",
     "text": [
      "(12, 10)\n",
      "(30, 11)\n"
     ]
    },
    {
     "data": {
      "text/html": [
       "<div>\n",
       "<style scoped>\n",
       "    .dataframe tbody tr th:only-of-type {\n",
       "        vertical-align: middle;\n",
       "    }\n",
       "\n",
       "    .dataframe tbody tr th {\n",
       "        vertical-align: top;\n",
       "    }\n",
       "\n",
       "    .dataframe thead th {\n",
       "        text-align: right;\n",
       "    }\n",
       "</style>\n",
       "<table border=\"1\" class=\"dataframe\">\n",
       "  <thead>\n",
       "    <tr style=\"text-align: right;\">\n",
       "      <th></th>\n",
       "      <th>name</th>\n",
       "      <th>sexe</th>\n",
       "      <th>age</th>\n",
       "      <th>general health</th>\n",
       "      <th>ease of activity</th>\n",
       "      <th>breathing problem</th>\n",
       "      <th>fatigue</th>\n",
       "      <th>overall pain</th>\n",
       "      <th>concentration</th>\n",
       "      <th>sleep quality</th>\n",
       "      <th>severity score</th>\n",
       "    </tr>\n",
       "  </thead>\n",
       "  <tbody>\n",
       "    <tr>\n",
       "      <th>0</th>\n",
       "      <td>Francoise</td>\n",
       "      <td>1</td>\n",
       "      <td>75</td>\n",
       "      <td>5</td>\n",
       "      <td>3</td>\n",
       "      <td>8</td>\n",
       "      <td>8</td>\n",
       "      <td>4</td>\n",
       "      <td>3</td>\n",
       "      <td>9</td>\n",
       "      <td>6.20</td>\n",
       "    </tr>\n",
       "    <tr>\n",
       "      <th>1</th>\n",
       "      <td>Paul</td>\n",
       "      <td>0</td>\n",
       "      <td>59</td>\n",
       "      <td>7</td>\n",
       "      <td>7</td>\n",
       "      <td>3</td>\n",
       "      <td>3</td>\n",
       "      <td>3</td>\n",
       "      <td>6</td>\n",
       "      <td>4</td>\n",
       "      <td>3.45</td>\n",
       "    </tr>\n",
       "    <tr>\n",
       "      <th>2</th>\n",
       "      <td>Antoine</td>\n",
       "      <td>0</td>\n",
       "      <td>50</td>\n",
       "      <td>6</td>\n",
       "      <td>5</td>\n",
       "      <td>4</td>\n",
       "      <td>4</td>\n",
       "      <td>3</td>\n",
       "      <td>7</td>\n",
       "      <td>8</td>\n",
       "      <td>3.85</td>\n",
       "    </tr>\n",
       "    <tr>\n",
       "      <th>3</th>\n",
       "      <td>Daniela</td>\n",
       "      <td>1</td>\n",
       "      <td>25</td>\n",
       "      <td>8</td>\n",
       "      <td>8</td>\n",
       "      <td>0</td>\n",
       "      <td>1</td>\n",
       "      <td>1</td>\n",
       "      <td>10</td>\n",
       "      <td>9</td>\n",
       "      <td>1.35</td>\n",
       "    </tr>\n",
       "    <tr>\n",
       "      <th>4</th>\n",
       "      <td>Jules</td>\n",
       "      <td>0</td>\n",
       "      <td>21</td>\n",
       "      <td>8</td>\n",
       "      <td>9</td>\n",
       "      <td>1</td>\n",
       "      <td>4</td>\n",
       "      <td>3</td>\n",
       "      <td>7</td>\n",
       "      <td>8</td>\n",
       "      <td>2.85</td>\n",
       "    </tr>\n",
       "    <tr>\n",
       "      <th>5</th>\n",
       "      <td>Marc</td>\n",
       "      <td>0</td>\n",
       "      <td>28</td>\n",
       "      <td>8</td>\n",
       "      <td>5</td>\n",
       "      <td>2</td>\n",
       "      <td>5</td>\n",
       "      <td>0</td>\n",
       "      <td>7</td>\n",
       "      <td>3</td>\n",
       "      <td>4.70</td>\n",
       "    </tr>\n",
       "    <tr>\n",
       "      <th>6</th>\n",
       "      <td>Bob</td>\n",
       "      <td>0</td>\n",
       "      <td>19</td>\n",
       "      <td>9</td>\n",
       "      <td>10</td>\n",
       "      <td>1</td>\n",
       "      <td>1</td>\n",
       "      <td>2</td>\n",
       "      <td>7</td>\n",
       "      <td>8</td>\n",
       "      <td>1.00</td>\n",
       "    </tr>\n",
       "    <tr>\n",
       "      <th>7</th>\n",
       "      <td>Emma</td>\n",
       "      <td>1</td>\n",
       "      <td>64</td>\n",
       "      <td>6</td>\n",
       "      <td>3</td>\n",
       "      <td>3</td>\n",
       "      <td>3</td>\n",
       "      <td>8</td>\n",
       "      <td>7</td>\n",
       "      <td>9</td>\n",
       "      <td>3.50</td>\n",
       "    </tr>\n",
       "    <tr>\n",
       "      <th>8</th>\n",
       "      <td>Patrick</td>\n",
       "      <td>0</td>\n",
       "      <td>83</td>\n",
       "      <td>3</td>\n",
       "      <td>0</td>\n",
       "      <td>10</td>\n",
       "      <td>10</td>\n",
       "      <td>9</td>\n",
       "      <td>2</td>\n",
       "      <td>4</td>\n",
       "      <td>8.80</td>\n",
       "    </tr>\n",
       "    <tr>\n",
       "      <th>9</th>\n",
       "      <td>Thomas</td>\n",
       "      <td>0</td>\n",
       "      <td>49</td>\n",
       "      <td>7</td>\n",
       "      <td>3</td>\n",
       "      <td>6</td>\n",
       "      <td>5</td>\n",
       "      <td>1</td>\n",
       "      <td>8</td>\n",
       "      <td>5</td>\n",
       "      <td>4.90</td>\n",
       "    </tr>\n",
       "    <tr>\n",
       "      <th>10</th>\n",
       "      <td>Stef</td>\n",
       "      <td>0</td>\n",
       "      <td>60</td>\n",
       "      <td>5</td>\n",
       "      <td>1</td>\n",
       "      <td>6</td>\n",
       "      <td>6</td>\n",
       "      <td>3</td>\n",
       "      <td>5</td>\n",
       "      <td>5</td>\n",
       "      <td>6.10</td>\n",
       "    </tr>\n",
       "    <tr>\n",
       "      <th>11</th>\n",
       "      <td>Julie</td>\n",
       "      <td>1</td>\n",
       "      <td>70</td>\n",
       "      <td>4</td>\n",
       "      <td>6</td>\n",
       "      <td>5</td>\n",
       "      <td>8</td>\n",
       "      <td>8</td>\n",
       "      <td>3</td>\n",
       "      <td>5</td>\n",
       "      <td>6.55</td>\n",
       "    </tr>\n",
       "    <tr>\n",
       "      <th>12</th>\n",
       "      <td>Lars</td>\n",
       "      <td>0</td>\n",
       "      <td>47</td>\n",
       "      <td>6</td>\n",
       "      <td>2</td>\n",
       "      <td>6</td>\n",
       "      <td>4</td>\n",
       "      <td>3</td>\n",
       "      <td>8</td>\n",
       "      <td>7</td>\n",
       "      <td>4.45</td>\n",
       "    </tr>\n",
       "    <tr>\n",
       "      <th>13</th>\n",
       "      <td>Alice</td>\n",
       "      <td>1</td>\n",
       "      <td>24</td>\n",
       "      <td>8</td>\n",
       "      <td>3</td>\n",
       "      <td>2</td>\n",
       "      <td>0</td>\n",
       "      <td>3</td>\n",
       "      <td>2</td>\n",
       "      <td>10</td>\n",
       "      <td>1.45</td>\n",
       "    </tr>\n",
       "    <tr>\n",
       "      <th>14</th>\n",
       "      <td>A</td>\n",
       "      <td>0</td>\n",
       "      <td>22</td>\n",
       "      <td>5</td>\n",
       "      <td>1</td>\n",
       "      <td>7</td>\n",
       "      <td>6</td>\n",
       "      <td>3</td>\n",
       "      <td>7</td>\n",
       "      <td>6</td>\n",
       "      <td>5.95</td>\n",
       "    </tr>\n",
       "    <tr>\n",
       "      <th>15</th>\n",
       "      <td>B</td>\n",
       "      <td>1</td>\n",
       "      <td>18</td>\n",
       "      <td>8</td>\n",
       "      <td>3</td>\n",
       "      <td>2</td>\n",
       "      <td>3</td>\n",
       "      <td>3</td>\n",
       "      <td>6</td>\n",
       "      <td>5</td>\n",
       "      <td>3.70</td>\n",
       "    </tr>\n",
       "    <tr>\n",
       "      <th>16</th>\n",
       "      <td>C</td>\n",
       "      <td>1</td>\n",
       "      <td>56</td>\n",
       "      <td>8</td>\n",
       "      <td>9</td>\n",
       "      <td>2</td>\n",
       "      <td>2</td>\n",
       "      <td>2</td>\n",
       "      <td>5</td>\n",
       "      <td>4</td>\n",
       "      <td>2.45</td>\n",
       "    </tr>\n",
       "    <tr>\n",
       "      <th>17</th>\n",
       "      <td>D</td>\n",
       "      <td>1</td>\n",
       "      <td>80</td>\n",
       "      <td>3</td>\n",
       "      <td>2</td>\n",
       "      <td>7</td>\n",
       "      <td>6</td>\n",
       "      <td>6</td>\n",
       "      <td>5</td>\n",
       "      <td>5</td>\n",
       "      <td>6.35</td>\n",
       "    </tr>\n",
       "    <tr>\n",
       "      <th>18</th>\n",
       "      <td>E</td>\n",
       "      <td>0</td>\n",
       "      <td>50</td>\n",
       "      <td>3</td>\n",
       "      <td>2</td>\n",
       "      <td>8</td>\n",
       "      <td>8</td>\n",
       "      <td>3</td>\n",
       "      <td>7</td>\n",
       "      <td>7</td>\n",
       "      <td>7.05</td>\n",
       "    </tr>\n",
       "    <tr>\n",
       "      <th>19</th>\n",
       "      <td>F</td>\n",
       "      <td>0</td>\n",
       "      <td>47</td>\n",
       "      <td>7</td>\n",
       "      <td>8</td>\n",
       "      <td>3</td>\n",
       "      <td>3</td>\n",
       "      <td>6</td>\n",
       "      <td>6</td>\n",
       "      <td>4</td>\n",
       "      <td>3.30</td>\n",
       "    </tr>\n",
       "    <tr>\n",
       "      <th>20</th>\n",
       "      <td>G</td>\n",
       "      <td>1</td>\n",
       "      <td>36</td>\n",
       "      <td>5</td>\n",
       "      <td>6</td>\n",
       "      <td>5</td>\n",
       "      <td>4</td>\n",
       "      <td>8</td>\n",
       "      <td>3</td>\n",
       "      <td>2</td>\n",
       "      <td>4.80</td>\n",
       "    </tr>\n",
       "    <tr>\n",
       "      <th>21</th>\n",
       "      <td>H</td>\n",
       "      <td>0</td>\n",
       "      <td>32</td>\n",
       "      <td>6</td>\n",
       "      <td>4</td>\n",
       "      <td>1</td>\n",
       "      <td>6</td>\n",
       "      <td>2</td>\n",
       "      <td>4</td>\n",
       "      <td>10</td>\n",
       "      <td>4.70</td>\n",
       "    </tr>\n",
       "    <tr>\n",
       "      <th>22</th>\n",
       "      <td>I</td>\n",
       "      <td>0</td>\n",
       "      <td>71</td>\n",
       "      <td>1</td>\n",
       "      <td>3</td>\n",
       "      <td>8</td>\n",
       "      <td>9</td>\n",
       "      <td>7</td>\n",
       "      <td>5</td>\n",
       "      <td>4</td>\n",
       "      <td>8.25</td>\n",
       "    </tr>\n",
       "    <tr>\n",
       "      <th>23</th>\n",
       "      <td>J</td>\n",
       "      <td>0</td>\n",
       "      <td>67</td>\n",
       "      <td>4</td>\n",
       "      <td>6</td>\n",
       "      <td>5</td>\n",
       "      <td>8</td>\n",
       "      <td>5</td>\n",
       "      <td>5</td>\n",
       "      <td>3</td>\n",
       "      <td>6.85</td>\n",
       "    </tr>\n",
       "    <tr>\n",
       "      <th>24</th>\n",
       "      <td>K</td>\n",
       "      <td>1</td>\n",
       "      <td>63</td>\n",
       "      <td>7</td>\n",
       "      <td>7</td>\n",
       "      <td>3</td>\n",
       "      <td>2</td>\n",
       "      <td>3</td>\n",
       "      <td>5</td>\n",
       "      <td>8</td>\n",
       "      <td>2.35</td>\n",
       "    </tr>\n",
       "    <tr>\n",
       "      <th>25</th>\n",
       "      <td>L</td>\n",
       "      <td>1</td>\n",
       "      <td>26</td>\n",
       "      <td>8</td>\n",
       "      <td>2</td>\n",
       "      <td>2</td>\n",
       "      <td>2</td>\n",
       "      <td>3</td>\n",
       "      <td>10</td>\n",
       "      <td>8</td>\n",
       "      <td>2.90</td>\n",
       "    </tr>\n",
       "    <tr>\n",
       "      <th>26</th>\n",
       "      <td>M</td>\n",
       "      <td>0</td>\n",
       "      <td>28</td>\n",
       "      <td>9</td>\n",
       "      <td>9</td>\n",
       "      <td>1</td>\n",
       "      <td>0</td>\n",
       "      <td>1</td>\n",
       "      <td>6</td>\n",
       "      <td>10</td>\n",
       "      <td>0.35</td>\n",
       "    </tr>\n",
       "    <tr>\n",
       "      <th>27</th>\n",
       "      <td>N</td>\n",
       "      <td>1</td>\n",
       "      <td>45</td>\n",
       "      <td>3</td>\n",
       "      <td>6</td>\n",
       "      <td>8</td>\n",
       "      <td>8</td>\n",
       "      <td>3</td>\n",
       "      <td>4</td>\n",
       "      <td>7</td>\n",
       "      <td>6.45</td>\n",
       "    </tr>\n",
       "    <tr>\n",
       "      <th>28</th>\n",
       "      <td>O</td>\n",
       "      <td>0</td>\n",
       "      <td>20</td>\n",
       "      <td>9</td>\n",
       "      <td>1</td>\n",
       "      <td>0</td>\n",
       "      <td>0</td>\n",
       "      <td>0</td>\n",
       "      <td>8</td>\n",
       "      <td>10</td>\n",
       "      <td>1.55</td>\n",
       "    </tr>\n",
       "    <tr>\n",
       "      <th>29</th>\n",
       "      <td>P</td>\n",
       "      <td>1</td>\n",
       "      <td>65</td>\n",
       "      <td>2</td>\n",
       "      <td>3</td>\n",
       "      <td>9</td>\n",
       "      <td>10</td>\n",
       "      <td>5</td>\n",
       "      <td>5</td>\n",
       "      <td>3</td>\n",
       "      <td>8.70</td>\n",
       "    </tr>\n",
       "  </tbody>\n",
       "</table>\n",
       "</div>"
      ],
      "text/plain": [
       "         name  sexe  age  general health  ease of activity  breathing problem  \\\n",
       "0   Francoise     1   75               5                 3                  8   \n",
       "1        Paul     0   59               7                 7                  3   \n",
       "2     Antoine     0   50               6                 5                  4   \n",
       "3     Daniela     1   25               8                 8                  0   \n",
       "4       Jules     0   21               8                 9                  1   \n",
       "5        Marc     0   28               8                 5                  2   \n",
       "6         Bob     0   19               9                10                  1   \n",
       "7        Emma     1   64               6                 3                  3   \n",
       "8     Patrick     0   83               3                 0                 10   \n",
       "9      Thomas     0   49               7                 3                  6   \n",
       "10       Stef     0   60               5                 1                  6   \n",
       "11      Julie     1   70               4                 6                  5   \n",
       "12       Lars     0   47               6                 2                  6   \n",
       "13      Alice     1   24               8                 3                  2   \n",
       "14          A     0   22               5                 1                  7   \n",
       "15          B     1   18               8                 3                  2   \n",
       "16          C     1   56               8                 9                  2   \n",
       "17          D     1   80               3                 2                  7   \n",
       "18          E     0   50               3                 2                  8   \n",
       "19          F     0   47               7                 8                  3   \n",
       "20          G     1   36               5                 6                  5   \n",
       "21          H     0   32               6                 4                  1   \n",
       "22          I     0   71               1                 3                  8   \n",
       "23          J     0   67               4                 6                  5   \n",
       "24          K     1   63               7                 7                  3   \n",
       "25          L     1   26               8                 2                  2   \n",
       "26          M     0   28               9                 9                  1   \n",
       "27          N     1   45               3                 6                  8   \n",
       "28          O     0   20               9                 1                  0   \n",
       "29          P     1   65               2                 3                  9   \n",
       "\n",
       "    fatigue  overall pain  concentration  sleep quality  severity score  \n",
       "0         8             4              3              9            6.20  \n",
       "1         3             3              6              4            3.45  \n",
       "2         4             3              7              8            3.85  \n",
       "3         1             1             10              9            1.35  \n",
       "4         4             3              7              8            2.85  \n",
       "5         5             0              7              3            4.70  \n",
       "6         1             2              7              8            1.00  \n",
       "7         3             8              7              9            3.50  \n",
       "8        10             9              2              4            8.80  \n",
       "9         5             1              8              5            4.90  \n",
       "10        6             3              5              5            6.10  \n",
       "11        8             8              3              5            6.55  \n",
       "12        4             3              8              7            4.45  \n",
       "13        0             3              2             10            1.45  \n",
       "14        6             3              7              6            5.95  \n",
       "15        3             3              6              5            3.70  \n",
       "16        2             2              5              4            2.45  \n",
       "17        6             6              5              5            6.35  \n",
       "18        8             3              7              7            7.05  \n",
       "19        3             6              6              4            3.30  \n",
       "20        4             8              3              2            4.80  \n",
       "21        6             2              4             10            4.70  \n",
       "22        9             7              5              4            8.25  \n",
       "23        8             5              5              3            6.85  \n",
       "24        2             3              5              8            2.35  \n",
       "25        2             3             10              8            2.90  \n",
       "26        0             1              6             10            0.35  \n",
       "27        8             3              4              7            6.45  \n",
       "28        0             0              8             10            1.55  \n",
       "29       10             5              5              3            8.70  "
      ]
     },
     "execution_count": 2,
     "metadata": {},
     "output_type": "execute_result"
    }
   ],
   "source": [
    "trainSize = severity_train.shape[0]\n",
    "#severity_train[\"severity score\"] = severity_train[\"severity score\"].apply(np.log)\n",
    "print(severity_test.shape)\n",
    "print(severity_train.shape)\n",
    "severity_train"
   ]
  },
  {
   "cell_type": "code",
   "execution_count": 3,
   "metadata": {
    "scrolled": false
   },
   "outputs": [],
   "source": [
    "train_names = severity_train[\"name\"]\n",
    "test_names = severity_test[\"name\"]\n",
    "\n",
    "severity_test.drop(\"name\", axis=1, inplace=True)\n",
    "severity_train.drop(\"name\", axis=1, inplace=True)"
   ]
  },
  {
   "cell_type": "markdown",
   "metadata": {},
   "source": [
    "# (We dont ignore the na or missing in train data) "
   ]
  },
  {
   "cell_type": "code",
   "execution_count": 4,
   "metadata": {},
   "outputs": [],
   "source": [
    "import numpy as np\n",
    "import sklearn.model_selection as ms\n",
    "from sklearn.model_selection import GridSearchCV, train_test_split\n",
    "\n",
    "from sklearn import linear_model\n",
    "from sklearn.ensemble import GradientBoostingRegressor, RandomForestRegressor #as gbr as rfr\n",
    "\n",
    "from sklearn.metrics import mean_squared_error\n",
    "\n",
    "def rmse(y, y_pred):\n",
    "    return np.sqrt(mean_squared_error(y, y_pred))"
   ]
  },
  {
   "cell_type": "code",
   "execution_count": 5,
   "metadata": {},
   "outputs": [],
   "source": [
    "rs_const = 80 #always use the same one value for all model tuning process\n",
    "test_ratio_const = 0.2 \n",
    "train_data   = severity_train.drop(\"severity score\", axis=1)\n",
    "train_target = severity_train[['severity score']]\n",
    "test_data    = severity_test\n",
    "\n",
    "X_train, X_test, y_train, y_test = train_test_split(train_data, train_target,\\\n",
    "                                                    test_size=test_ratio_const, random_state=rs_const)"
   ]
  },
  {
   "cell_type": "code",
   "execution_count": 6,
   "metadata": {},
   "outputs": [],
   "source": [
    "from sklearn.preprocessing import StandardScaler\n",
    "\n",
    "scaler = StandardScaler()\n",
    "scaler.fit(X_train)\n",
    "\n",
    "X_train_std = scaler.transform(X_train)\n",
    "X_test_std  = scaler.transform(X_test)"
   ]
  },
  {
   "cell_type": "code",
   "execution_count": 7,
   "metadata": {},
   "outputs": [
    {
     "name": "stdout",
     "output_type": "stream",
     "text": [
      "RMSE train: 1.7171110475234945e-15\n",
      "RMSE test : 2.026980648162706e-15\n"
     ]
    }
   ],
   "source": [
    "# 1. linear regression:\n",
    "model = linear_model.LinearRegression()\n",
    "model.fit(X_train, y_train)\n",
    "\n",
    "print(\"RMSE train: {}\".format(rmse(y_train, model.predict(X_train))))\n",
    "print(\"RMSE test : {}\".format(rmse(y_test,  model.predict(X_test))))"
   ]
  },
  {
   "cell_type": "code",
   "execution_count": 8,
   "metadata": {},
   "outputs": [
    {
     "name": "stdout",
     "output_type": "stream",
     "text": [
      "Best params: {'alpha': 0.0001}\n",
      "Best score : 0.9999999987381537\n",
      "RMSE train: 1.845056446869926e-05\n",
      "RMSE test : 5.368467903929458e-05\n"
     ]
    }
   ],
   "source": [
    "# 2. ridge\n",
    "grid_param = [{'alpha': np.logspace(-4, 4, 20)}]\n",
    "\n",
    "gs = GridSearchCV(estimator=linear_model.Ridge(random_state=rs_const), param_grid=grid_param, cv=5)\n",
    "\n",
    "gs.fit(X_train_std, y_train)\n",
    "\n",
    "#cv_results_, grid_scores_ (to obsolete), best_estimator_, best_params_, best_score_\n",
    "print('Best params: {}'.format(gs.best_params_))\n",
    "print('Best score : {}'.format(gs.best_score_))\n",
    "#print('')\n",
    "model = gs.best_estimator_\n",
    "print(\"RMSE train: {}\".format(rmse(y_train, model.predict(X_train_std))))\n",
    "print(\"RMSE test : {}\".format(rmse(y_test,  model.predict(X_test_std))))"
   ]
  },
  {
   "cell_type": "code",
   "execution_count": 9,
   "metadata": {},
   "outputs": [
    {
     "data": {
      "text/plain": [
       "count    9.000000\n",
       "mean     0.030494\n",
       "std      0.599420\n",
       "min     -0.469058\n",
       "25%     -0.345006\n",
       "50%     -0.000009\n",
       "75%      0.000005\n",
       "max      1.532006\n",
       "dtype: float64"
      ]
     },
     "execution_count": 9,
     "metadata": {},
     "output_type": "execute_result"
    }
   ],
   "source": [
    "pd.Series(model.coef_.flatten()).describe()"
   ]
  },
  {
   "cell_type": "code",
   "execution_count": 10,
   "metadata": {},
   "outputs": [
    {
     "name": "stdout",
     "output_type": "stream",
     "text": [
      "Best params: {'alpha': 0.001}\n",
      "Best score : 0.9999988103908652\n",
      "RMSE train: 0.0014404931661405596\n",
      "RMSE test : 0.0012115895049309368\n"
     ]
    }
   ],
   "source": [
    "# 3. lasso \n",
    "# max_iter = 1000, if not enough better increase alpha to proceed, \n",
    "# but not increase max_iter, as it mostly won't help much on the slow convergence. \n",
    "grid_param = [{'alpha': np.logspace(-3, 4, 20)}] \n",
    "\n",
    "gs = GridSearchCV(estimator=linear_model.Lasso(random_state=rs_const, normalize=False), param_grid=grid_param, cv=5)\n",
    "\n",
    "gs.fit(X_train_std, y_train)\n",
    "\n",
    "#cv_results_, grid_scores_ (to obsolete), best_estimator_, best_params_, best_score_\n",
    "print('Best params: {}'.format(gs.best_params_))\n",
    "print('Best score : {}'.format(gs.best_score_))\n",
    "#print('')\n",
    "model = gs.best_estimator_\n",
    "print(\"RMSE train: {}\".format(rmse(y_train, model.predict(X_train_std))))\n",
    "print(\"RMSE test : {}\".format(rmse(y_test,  model.predict(X_test_std))))"
   ]
  },
  {
   "cell_type": "code",
   "execution_count": 11,
   "metadata": {},
   "outputs": [
    {
     "data": {
      "text/plain": [
       "0.1111111111111111"
      ]
     },
     "execution_count": 11,
     "metadata": {},
     "output_type": "execute_result"
    }
   ],
   "source": [
    "sum(model.coef_ > 1e-6) / model.coef_.shape[0]\n"
   ]
  },
  {
   "cell_type": "code",
   "execution_count": 12,
   "metadata": {},
   "outputs": [
    {
     "name": "stdout",
     "output_type": "stream",
     "text": [
      "Best params: {'alpha': 0.01, 'l1_ratio': 0.9481578947368421}\n",
      "Best score : 0.9999191822405088\n",
      "RMSE train: 0.013109707575731155\n",
      "RMSE test : 0.007223130467283896\n"
     ]
    }
   ],
   "source": [
    "# 4. ElasticNet\n",
    "grid_param = [{'alpha': np.logspace(-2, 4, 20), 'l1_ratio': np.linspace(0.015, 1, 20)}]\n",
    "\n",
    "# Confirmed that setting scoring='neg_mean_squared_error' is the same result as using the default \"R2\" score.\n",
    "gs = GridSearchCV(estimator=linear_model.ElasticNet(random_state=rs_const), param_grid=grid_param, cv=5)\n",
    "\n",
    "gs.fit(X_train_std, y_train)\n",
    "\n",
    "#cv_results_, grid_scores_ (to obsolete), best_estimator_, best_params_, best_score_\n",
    "print('Best params: {}'.format(gs.best_params_))\n",
    "print('Best score : {}'.format(gs.best_score_))\n",
    "#print('')\n",
    "model = gs.best_estimator_\n",
    "print(\"RMSE train: {}\".format(rmse(y_train, model.predict(X_train_std))))\n",
    "print(\"RMSE test : {}\".format(rmse(y_test,  model.predict(X_test_std))))\n"
   ]
  },
  {
   "cell_type": "code",
   "execution_count": 13,
   "metadata": {},
   "outputs": [
    {
     "data": {
      "text/plain": [
       "0.2222222222222222"
      ]
     },
     "execution_count": 13,
     "metadata": {},
     "output_type": "execute_result"
    }
   ],
   "source": [
    "sum(model.coef_ > 1e-6) / model.coef_.shape[0]\n"
   ]
  },
  {
   "cell_type": "code",
   "execution_count": 14,
   "metadata": {},
   "outputs": [
    {
     "name": "stdout",
     "output_type": "stream",
     "text": [
      "Best params: {}\n",
      "Best score : 0.8440717061808444\n",
      "RMSE train: 0.0011900088097350273\n",
      "RMSE test : 0.4567113905810084\n"
     ]
    }
   ],
   "source": [
    "\n",
    "grid_param = [{}]\n",
    "\n",
    "# Step\n",
    "#learning_rate:0.1 -> 0.05 -> 0.01 -> 0.005 ->... 0.005 best\n",
    "#n_estimators: 140 -> 280  -> 1000 -> 2000  ->... 3000 best\n",
    "\n",
    "gs = GridSearchCV(estimator = GradientBoostingRegressor(\\\n",
    "                                    learning_rate=0.005,\\\n",
    "                                    n_estimators=3000,\\\n",
    "                                    max_depth=5,\\\n",
    "                                    min_samples_split=7,\\\n",
    "                                    min_samples_leaf=1,\\\n",
    "                                    max_features='sqrt',\\\n",
    "                                    subsample=0.88,\\\n",
    "                                    random_state=rs_const), \\\n",
    "                                    param_grid = grid_param,\\\n",
    "                                    n_jobs=4, cv=5)  \n",
    "\n",
    "gs.fit(X_train, y_train)\n",
    "\n",
    "#cv_results_, grid_scores_ (to obsolete), best_estimator_, best_params_, best_score_\n",
    "print('Best params: {}'.format(gs.best_params_))\n",
    "print('Best score : {}'.format(gs.best_score_))\n",
    "#print('')\n",
    "model = gs.best_estimator_\n",
    "print(\"RMSE train: {}\".format(rmse(y_train, model.predict(X_train))))\n",
    "print(\"RMSE test : {}\".format(rmse(y_test,  model.predict(X_test))))"
   ]
  },
  {
   "cell_type": "code",
   "execution_count": 15,
   "metadata": {},
   "outputs": [
    {
     "name": "stdout",
     "output_type": "stream",
     "text": [
      "RMSE train: 0.08020930943259602\n",
      "RMSE test : 0.4534887509325263\n"
     ]
    }
   ],
   "source": [
    "model = GradientBoostingRegressor(\\\n",
    "                                    learning_rate=0.005,\\\n",
    "                                    n_estimators=1000,\\\n",
    "                                    max_depth=5,\\\n",
    "                                    min_samples_split=7,\\\n",
    "                                    min_samples_leaf=1,\\\n",
    "                                    max_features='sqrt',\\\n",
    "                                    subsample=0.88,\\\n",
    "                                    random_state=rs_const)\n",
    "model.fit(X_train, y_train)\n",
    "\n",
    "print(\"RMSE train: {}\".format(rmse(y_train, model.predict(X_train))))\n",
    "print(\"RMSE test : {}\".format(rmse(y_test,  model.predict(X_test))))"
   ]
  },
  {
   "cell_type": "code",
   "execution_count": 16,
   "metadata": {},
   "outputs": [
    {
     "name": "stdout",
     "output_type": "stream",
     "text": [
      "sqrt total feature: 3.0\n",
      "40% of total feature: 3.6\n"
     ]
    }
   ],
   "source": [
    "print('sqrt total feature: {}'.format(math.sqrt(X_train.columns.shape[0])))\n",
    "print('40% of total feature: {}'.format(X_train.columns.shape[0] * 0.4))"
   ]
  },
  {
   "cell_type": "code",
   "execution_count": 17,
   "metadata": {},
   "outputs": [
    {
     "data": {
      "text/plain": [
       "<AxesSubplot:xlabel='feature_importance', ylabel='index'>"
      ]
     },
     "execution_count": 17,
     "metadata": {},
     "output_type": "execute_result"
    },
    {
     "data": {
      "image/png": "[encoded data removed]",
      "text/plain": [
       "<Figure size 864x648 with 1 Axes>"
      ]
     },
     "metadata": {
      "needs_background": "light"
     },
     "output_type": "display_data"
    }
   ],
   "source": [
    "varImp = pd.DataFrame({'index':X_train.columns, 'feature_importance':model.feature_importances_})\n",
    "varImp.sort_values(by='feature_importance', ascending=False, inplace=True)\n",
    "f, ax = plt.subplots(1, 1, figsize=[12, 9])\n",
    "sns.barplot(x = 'feature_importance', y = 'index', data = varImp.iloc[:9,], ax = ax)\n"
   ]
  },
  {
   "cell_type": "code",
   "execution_count": 33,
   "metadata": {},
   "outputs": [
    {
     "name": "stdout",
     "output_type": "stream",
     "text": [
      "Best params: {}\n",
      "Best score : 0.7245159994751148\n",
      "RMSE train: 0.36768496856621846\n",
      "RMSE test : 0.3047959097632435\n"
     ]
    }
   ],
   "source": [
    "grid_param = [{}]\n",
    "\n",
    "gs = GridSearchCV(estimator = RandomForestRegressor(\\\n",
    "                                    max_features=4,\\\n",
    "                                    n_estimators=200,\\\n",
    "                                    min_samples_split=5,\\\n",
    "                                    min_samples_leaf=1,\\\n",
    "                                    random_state=rs_const,\\\n",
    "                                    n_jobs=-1),\\\n",
    "                  param_grid = grid_param, n_jobs=-1, cv=5)  \n",
    "\n",
    "gs.fit(X_train, y_train)\n",
    "\n",
    "#cv_results_, grid_scores_ (to obsolete), best_estimator_, best_params_, best_score_\n",
    "print('Best params: {}'.format(gs.best_params_))\n",
    "print('Best score : {}'.format(gs.best_score_))\n",
    "#print('')\n",
    "model = gs.best_estimator_\n",
    "print(\"RMSE train: {}\".format(rmse(y_train, model.predict(X_train))))\n",
    "print(\"RMSE test : {}\".format(rmse(y_test,  model.predict(X_test))))\n"
   ]
  },
  {
   "cell_type": "code",
   "execution_count": 19,
   "metadata": {},
   "outputs": [
    {
     "data": {
      "text/plain": [
       "RandomForestRegressor(max_features=9, min_samples_split=5, n_estimators=200,\n",
       "                      n_jobs=-1, random_state=80)"
      ]
     },
     "metadata": {},
     "output_type": "display_data"
    }
   ],
   "source": [
    "display(model)\n"
   ]
  },
  {
   "cell_type": "code",
   "execution_count": 20,
   "metadata": {},
   "outputs": [
    {
     "data": {
      "text/plain": [
       "<AxesSubplot:xlabel='feature_importance', ylabel='index'>"
      ]
     },
     "execution_count": 20,
     "metadata": {},
     "output_type": "execute_result"
    },
    {
     "data": {
      "image/png": "[encoded data removed]",
      "text/plain": [
       "<Figure size 864x648 with 1 Axes>"
      ]
     },
     "metadata": {
      "needs_background": "light"
     },
     "output_type": "display_data"
    }
   ],
   "source": [
    "varImp = pd.DataFrame({'index':X_train.columns, 'feature_importance':model.feature_importances_})\n",
    "varImp.sort_values(by='feature_importance', ascending=False, inplace=True)\n",
    "f, ax = plt.subplots(1, 1, figsize=[12, 9])\n",
    "sns.barplot(x = 'feature_importance', y = 'index', data = varImp.iloc[:9,], ax = ax)\n"
   ]
  },
  {
   "cell_type": "code",
   "execution_count": 39,
   "metadata": {
    "scrolled": false
   },
   "outputs": [
    {
     "name": "stdout",
     "output_type": "stream",
     "text": [
      "RMSE train: 0.40967990200605825\n",
      "RMSE test : 0.5449462643752031\n"
     ]
    },
    {
     "data": {
      "text/plain": [
       "<AxesSubplot:xlabel='feature_importance', ylabel='index'>"
      ]
     },
     "execution_count": 39,
     "metadata": {},
     "output_type": "execute_result"
    },
    {
     "data": {
      "image/png": "[encoded data removed]",
      "text/plain": [
       "<Figure size 864x648 with 1 Axes>"
      ]
     },
     "metadata": {
      "needs_background": "light"
     },
     "output_type": "display_data"
    }
   ],
   "source": [
    "# RF best/try:\n",
    "model = RandomForestRegressor(\\\n",
    "            max_features=4,\\\n",
    "            n_estimators=200,\\\n",
    "            min_samples_split=5,\\\n",
    "            min_samples_leaf=1,\\\n",
    "            random_state=rs_const,\\\n",
    "            n_jobs=-1)\n",
    "\n",
    "model.fit(X_train, y_train)\n",
    "print(\"RMSE train: {}\".format(rmse(y_train, model.predict(X_train))))\n",
    "print(\"RMSE test : {}\".format(rmse(y_test,  model.predict(X_test))))\n",
    "\n",
    "varImp = pd.DataFrame({'index':X_train.columns, 'feature_importance':model.feature_importances_})\n",
    "varImp.sort_values(by='feature_importance', ascending=False, inplace=True)\n",
    "f, ax = plt.subplots(1, 1, figsize=[12, 9])\n",
    "sns.barplot(x = 'feature_importance', y = 'index', data = varImp.iloc[:9,], ax = ax)"
   ]
  },
  {
   "cell_type": "code",
   "execution_count": 22,
   "metadata": {},
   "outputs": [],
   "source": [
    "# best multi model stacking: \n",
    "models = [\n",
    "    # linear model\n",
    "    #linear_model.Lasso(alpha=0.00545559478116852, random_state=rs_const),\n",
    "    linear_model.ElasticNet(alpha=0.01, l1_ratio=1.0, random_state=rs_const),\n",
    " \n",
    "    # conservative random forst model\n",
    "#     RandomForestRegressor(\\\n",
    "#                         max_depth=5,\\\n",
    "#                         max_features='sqrt',\\\n",
    "#                         n_estimators=1000,\\\n",
    "#                         random_state=rs_const,\\\n",
    "#                         n_jobs=-1),\n",
    "    \n",
    "    RandomForestRegressor(\\\n",
    "                        max_features=4,\\\n",
    "                        n_estimators=200,\\\n",
    "                        min_samples_split=5,\\\n",
    "                        min_samples_leaf=1,\\\n",
    "                        random_state=rs_const,\\\n",
    "                        n_jobs=-1),\n",
    "#     RandomForestRegressor(\\\n",
    "#                         max_depth=None,\\\n",
    "#                         max_features=80,\\\n",
    "#                         n_estimators=170,\\\n",
    "#                         random_state=rs_const,\\\n",
    "#                         n_jobs=-1),\n",
    "    \n",
    "    # conservative gbm model\n",
    "#     GradientBoostingRegressor(\\\n",
    "#                         learning_rate=0.005,\\\n",
    "#                         n_estimators=3000,\\\n",
    "#                         max_depth=2,\\\n",
    "#                         min_samples_split=40,\\\n",
    "#                         min_samples_leaf=10,\\\n",
    "#                         max_features=120,\\\n",
    "#                         subsample=0.8,\\\n",
    "#                         random_state=rs_const),\n",
    "    \n",
    "    GradientBoostingRegressor(\\\n",
    "                        learning_rate=0.005,\\\n",
    "                        n_estimators=3000,\\\n",
    "                        max_depth=5,\\\n",
    "                        min_samples_split=7,\\\n",
    "                        min_samples_leaf=1,\\\n",
    "                        max_features='sqrt',\\\n",
    "                        subsample=0.8,\\\n",
    "                        random_state=rs_const)\n",
    "    \n",
    "#     GradientBoostingRegressor(\\\n",
    "#                         learning_rate=0.01,\\\n",
    "#                         n_estimators=2000,\\\n",
    "#                         max_depth=5,\\\n",
    "#                         min_samples_split=28,\\\n",
    "#                         min_samples_leaf=3,\\\n",
    "#                         max_features=63,\\\n",
    "#                         subsample=0.8,\\\n",
    "#                         random_state=rs_const)\n",
    "    ]\n",
    "\n",
    "meta_model = linear_model.LinearRegression(normalize=False) # normalize=True: almost the same"
   ]
  },
  {
   "cell_type": "code",
   "execution_count": 23,
   "metadata": {},
   "outputs": [
    {
     "name": "stdout",
     "output_type": "stream",
     "text": [
      "For log severity score: \n",
      "RMSE train: 0.013479909102913471\n",
      "RMSE test : 0.009872043279092788\n",
      "\n",
      "For actual severity score: \n",
      "RMSE train: 39.06499373765997\n",
      "RMSE test : 2.2400822447103166\n",
      "Wall time: 0 ns\n"
     ]
    }
   ],
   "source": [
    "%%time \n",
    "# Single model selection: best Lasso:\n",
    "model = linear_model.ElasticNet(alpha=0.01, l1_ratio=1.0, random_state=rs_const)\n",
    "\n",
    "model.fit(X_train_std, y_train)\n",
    "\n",
    "final_train_prediction = model.predict(X_train_std)\n",
    "final_test_prediction  = model.predict(X_test_std)\n",
    "\n",
    "print(\"For log severity score: \")\n",
    "print(\"RMSE train: {}\".format(rmse(y_train, final_train_prediction)))\n",
    "print(\"RMSE test : {}\".format(rmse(y_test,  final_test_prediction)))\n",
    "print(\"\")\n",
    "print(\"For actual severity score: \")\n",
    "print(\"RMSE train: {}\".format(rmse(np.expm1(y_train), np.expm1(final_train_prediction))))\n",
    "print(\"RMSE test : {}\".format(rmse(np.expm1(y_test),  np.expm1(final_test_prediction))))"
   ]
  },
  {
   "cell_type": "code",
   "execution_count": 24,
   "metadata": {},
   "outputs": [],
   "source": [
    "scaler = StandardScaler()\n",
    "scaler.fit(train_data)\n",
    "\n",
    "train_data_std = scaler.transform(train_data)\n",
    "test_data_std  = scaler.transform(test_data)"
   ]
  },
  {
   "cell_type": "code",
   "execution_count": 40,
   "metadata": {
    "scrolled": false
   },
   "outputs": [
    {
     "data": {
      "text/plain": [
       "<AxesSubplot:xlabel='feature_importance', ylabel='index'>"
      ]
     },
     "execution_count": 40,
     "metadata": {},
     "output_type": "execute_result"
    },
    {
     "data": {
      "image/png": "[encoded data removed]",
      "text/plain": [
       "<Figure size 864x648 with 1 Axes>"
      ]
     },
     "metadata": {
      "needs_background": "light"
     },
     "output_type": "display_data"
    }
   ],
   "source": [
    "#model = linear_model.ElasticNet(alpha=0.01, l1_ratio=1.0, random_state=rs_const)\n",
    "#model = linear_model.Lasso(alpha=0.00545559478116852, random_state=rs_const)\n",
    "model = RandomForestRegressor(max_features=4,n_estimators=200, min_samples_split=5, \n",
    "                              min_samples_leaf=1, random_state=rs_const, n_jobs=-1)\n",
    "\n",
    "model.fit(X_train, y_train)\n",
    "\n",
    "varImp = pd.DataFrame({'index':X_train.columns, 'feature_importance':model.feature_importances_})\n",
    "varImp.sort_values(by='feature_importance', ascending=False, inplace=True)\n",
    "f, ax = plt.subplots(1, 1, figsize=[12, 9])\n",
    "sns.barplot(x = 'feature_importance', y = 'index', data = varImp.iloc[:9,], ax = ax)"
   ]
  },
  {
   "cell_type": "code",
   "execution_count": 45,
   "metadata": {},
   "outputs": [
    {
     "name": "stdout",
     "output_type": "stream",
     "text": [
      "For log severity score: \n",
      "RMSE train: 0.35815544449243775\n",
      "\n",
      "For actual severity score: \n",
      "RMSE train: 819.4799111611468\n"
     ]
    }
   ],
   "source": [
    "# These 2 linear models (ElasticNet and Lasso) seems to be good to predict score and output very similar results\n",
    "\n",
    "#model = linear_model.ElasticNet(alpha=0.01, l1_ratio=1.0, random_state=rs_const)\n",
    "#model = linear_model.Lasso(alpha=0.00545559478116852, random_state=rs_const)\n",
    "model = RandomForestRegressor(max_features=4, n_estimators=200, min_samples_split=5, \n",
    "                              min_samples_leaf=1, random_state=rs_const, n_jobs=-1)\n",
    "\n",
    "model.fit(train_data_std, train_target)\n",
    "\n",
    "final_train_prediction = model.predict(train_data_std)\n",
    "final_test_prediction  = model.predict(test_data_std)\n",
    "\n",
    "print(\"For log severity score: \")\n",
    "print(\"RMSE train: {}\".format(rmse(train_target, final_train_prediction)))\n",
    "print(\"\")\n",
    "print(\"For actual severity score: \")\n",
    "print(\"RMSE train: {}\".format(rmse(np.expm1(train_target), np.expm1(final_train_prediction))))"
   ]
  },
  {
   "cell_type": "code",
   "execution_count": 46,
   "metadata": {},
   "outputs": [],
   "source": [
    "#final_test_prediction = np.expm1(final_test_prediction)\n",
    "\n",
    "final_submission = pd.DataFrame()\n",
    "final_submission['severity score'] = final_test_prediction"
   ]
  },
  {
   "cell_type": "code",
   "execution_count": 47,
   "metadata": {},
   "outputs": [
    {
     "data": {
      "text/html": [
       "<div>\n",
       "<style scoped>\n",
       "    .dataframe tbody tr th:only-of-type {\n",
       "        vertical-align: middle;\n",
       "    }\n",
       "\n",
       "    .dataframe tbody tr th {\n",
       "        vertical-align: top;\n",
       "    }\n",
       "\n",
       "    .dataframe thead th {\n",
       "        text-align: right;\n",
       "    }\n",
       "</style>\n",
       "<table border=\"1\" class=\"dataframe\">\n",
       "  <thead>\n",
       "    <tr style=\"text-align: right;\">\n",
       "      <th></th>\n",
       "      <th>severity score</th>\n",
       "    </tr>\n",
       "  </thead>\n",
       "  <tbody>\n",
       "    <tr>\n",
       "      <th>0</th>\n",
       "      <td>5.985746</td>\n",
       "    </tr>\n",
       "    <tr>\n",
       "      <th>1</th>\n",
       "      <td>5.821555</td>\n",
       "    </tr>\n",
       "    <tr>\n",
       "      <th>2</th>\n",
       "      <td>6.369459</td>\n",
       "    </tr>\n",
       "    <tr>\n",
       "      <th>3</th>\n",
       "      <td>3.971786</td>\n",
       "    </tr>\n",
       "    <tr>\n",
       "      <th>4</th>\n",
       "      <td>6.197246</td>\n",
       "    </tr>\n",
       "    <tr>\n",
       "      <th>5</th>\n",
       "      <td>6.597917</td>\n",
       "    </tr>\n",
       "    <tr>\n",
       "      <th>6</th>\n",
       "      <td>5.560119</td>\n",
       "    </tr>\n",
       "    <tr>\n",
       "      <th>7</th>\n",
       "      <td>4.940350</td>\n",
       "    </tr>\n",
       "    <tr>\n",
       "      <th>8</th>\n",
       "      <td>5.051974</td>\n",
       "    </tr>\n",
       "    <tr>\n",
       "      <th>9</th>\n",
       "      <td>2.668386</td>\n",
       "    </tr>\n",
       "    <tr>\n",
       "      <th>10</th>\n",
       "      <td>3.597345</td>\n",
       "    </tr>\n",
       "    <tr>\n",
       "      <th>11</th>\n",
       "      <td>5.959871</td>\n",
       "    </tr>\n",
       "  </tbody>\n",
       "</table>\n",
       "</div>"
      ],
      "text/plain": [
       "    severity score\n",
       "0         5.985746\n",
       "1         5.821555\n",
       "2         6.369459\n",
       "3         3.971786\n",
       "4         6.197246\n",
       "5         6.597917\n",
       "6         5.560119\n",
       "7         4.940350\n",
       "8         5.051974\n",
       "9         2.668386\n",
       "10        3.597345\n",
       "11        5.959871"
      ]
     },
     "execution_count": 47,
     "metadata": {},
     "output_type": "execute_result"
    }
   ],
   "source": [
    "final_submission"
   ]
  },
  {
   "cell_type": "markdown",
   "metadata": {},
   "source": [
    "# What we obtain with the formula:\n",
    "\n",
    "50%(fatigue)+15%(10–mood) + 15%(10–ease of activity) + 20%(10–general health)\n",
    "\n",
    "MOOD IS CHANGED BY SLEEP QUALITY IN THE CALCUL OF THE FORMULA FOR THE MOMENT \n",
    "\n",
    "    severity score:     \n",
    "0 : 6.4 \\\n",
    "1 : 5.7 \\\n",
    "2 : 5.4\\\n",
    "3 : 2.5\\\n",
    "4 : 8.05\\\n",
    "5 : 6.65 \\\n",
    "6 : 6.3 \\\n",
    "7 : 5.05\\\n",
    "8 : 5.05\\\n",
    "9 : 2.65 "
   ]
  },
  {
   "cell_type": "markdown",
   "metadata": {},
   "source": [
    "# Try a classification approach !"
   ]
  },
  {
   "cell_type": "code",
   "execution_count": null,
   "metadata": {},
   "outputs": [],
   "source": []
  }
 ],
 "metadata": {
  "kernelspec": {
   "display_name": "Python 3 (ipykernel)",
   "language": "python",
   "name": "python3"
  },
  "language_info": {
   "codemirror_mode": {
    "name": "ipython",
    "version": 3
   },
   "file_extension": ".py",
   "mimetype": "text/x-python",
   "name": "python",
   "nbconvert_exporter": "python",
   "pygments_lexer": "ipython3",
   "version": "3.9.6"
  }
 },
 "nbformat": 4,
 "nbformat_minor": 4
}
