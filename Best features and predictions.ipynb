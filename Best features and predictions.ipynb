{
 "cells": [
  {
   "cell_type": "markdown",
   "metadata": {},
   "source": [
    "# PREDICTION OF SS AND DETECT MOST IMPORTANT FEATURES "
   ]
  },
  {
   "cell_type": "markdown",
   "metadata": {},
   "source": [
    "# Prepare the data "
   ]
  },
  {
   "cell_type": "code",
   "execution_count": 4,
   "metadata": {},
   "outputs": [],
   "source": [
    "import pandas as pd\n",
    "import math\n",
    "import numpy as np\n",
    "import matplotlib.pyplot as plt\n",
    "import matplotlib\n",
    "import seaborn as sns\n",
    "import re\n",
    "import scipy\n",
    "\n",
    "import warnings\n",
    "warnings.filterwarnings('ignore')\n",
    "\n",
    "severity_train = pd.read_csv(\"train_handmade.csv\")\n",
    "severity_test = pd.read_csv(\"test_handmade.csv\")"
   ]
  },
  {
   "cell_type": "code",
   "execution_count": 5,
   "metadata": {},
   "outputs": [
    {
     "name": "stdout",
     "output_type": "stream",
     "text": [
      "(10, 10)\n",
      "(14, 11)\n"
     ]
    }
   ],
   "source": [
    "trainSize = severity_train.shape[0]\n",
    "#severity_train[\"severity score\"] = severity_train[\"severity score\"].apply(np.log)\n",
    "print(severity_test.shape)\n",
    "print(severity_train.shape)"
   ]
  },
  {
   "cell_type": "code",
   "execution_count": 6,
   "metadata": {
    "scrolled": false
   },
   "outputs": [],
   "source": [
    "train_names = severity_train[\"name\"]\n",
    "test_names = severity_test[\"name\"]\n",
    "\n",
    "severity_test.drop(\"name\", axis=1, inplace=True)\n",
    "severity_train.drop(\"name\", axis=1, inplace=True)"
   ]
  },
  {
   "cell_type": "markdown",
   "metadata": {},
   "source": [
    "# (We dont ignore the na or missing in train data) "
   ]
  },
  {
   "cell_type": "code",
   "execution_count": 7,
   "metadata": {},
   "outputs": [],
   "source": [
    "import numpy as np\n",
    "import sklearn.model_selection as ms\n",
    "from sklearn.model_selection import GridSearchCV, train_test_split\n",
    "\n",
    "from sklearn import linear_model\n",
    "from sklearn.ensemble import GradientBoostingRegressor, RandomForestRegressor #as gbr as rfr\n",
    "\n",
    "from sklearn.metrics import mean_squared_error\n",
    "\n",
    "def rmse(y, y_pred):\n",
    "    return np.sqrt(mean_squared_error(y, y_pred))"
   ]
  },
  {
   "cell_type": "code",
   "execution_count": 8,
   "metadata": {},
   "outputs": [],
   "source": [
    "rs_const = 80 #always use the same one value for all model tuning process\n",
    "test_ratio_const = 0.2 \n",
    "train_data   = severity_train.drop(\"severity score\", axis=1)\n",
    "train_target = severity_train[['severity score']]\n",
    "test_data    = severity_test\n",
    "\n",
    "X_train, X_test, y_train, y_test = train_test_split(train_data, train_target,\\\n",
    "                                                    test_size=test_ratio_const, random_state=rs_const)"
   ]
  },
  {
   "cell_type": "code",
   "execution_count": 9,
   "metadata": {},
   "outputs": [],
   "source": [
    "from sklearn.preprocessing import StandardScaler\n",
    "\n",
    "scaler = StandardScaler()\n",
    "scaler.fit(X_train)\n",
    "\n",
    "X_train_std = scaler.transform(X_train)\n",
    "X_test_std  = scaler.transform(X_test)"
   ]
  },
  {
   "cell_type": "code",
   "execution_count": 29,
   "metadata": {},
   "outputs": [
    {
     "name": "stdout",
     "output_type": "stream",
     "text": [
      "RMSE train: 1.472877282518059e-15\n",
      "RMSE test : 3.0874049412768257e-15\n"
     ]
    }
   ],
   "source": [
    "# 1. linear regression:\n",
    "model = linear_model.LinearRegression()\n",
    "model.fit(X_train, y_train)\n",
    "\n",
    "print(\"RMSE train: {}\".format(rmse(y_train, model.predict(X_train))))\n",
    "print(\"RMSE test : {}\".format(rmse(y_test,  model.predict(X_test))))"
   ]
  },
  {
   "cell_type": "code",
   "execution_count": 30,
   "metadata": {},
   "outputs": [
    {
     "name": "stdout",
     "output_type": "stream",
     "text": [
      "Best params: {'alpha': 0.03359818286283781}\n",
      "Best score : 0.38960936544103875\n",
      "RMSE train: 0.01816064588579218\n",
      "RMSE test : 0.07422466885087607\n"
     ]
    }
   ],
   "source": [
    "# 2. ridge\n",
    "grid_param = [{'alpha': np.logspace(-4, 4, 20)}]\n",
    "\n",
    "gs = GridSearchCV(estimator=linear_model.Ridge(random_state=rs_const), param_grid=grid_param, cv=5)\n",
    "\n",
    "gs.fit(X_train_std, y_train)\n",
    "\n",
    "#cv_results_, grid_scores_ (to obsolete), best_estimator_, best_params_, best_score_\n",
    "print('Best params: {}'.format(gs.best_params_))\n",
    "print('Best score : {}'.format(gs.best_score_))\n",
    "#print('')\n",
    "model = gs.best_estimator_\n",
    "print(\"RMSE train: {}\".format(rmse(y_train, model.predict(X_train_std))))\n",
    "print(\"RMSE test : {}\".format(rmse(y_test,  model.predict(X_test_std))))"
   ]
  },
  {
   "cell_type": "code",
   "execution_count": 31,
   "metadata": {},
   "outputs": [
    {
     "data": {
      "text/plain": [
       "count    9.000000\n",
       "mean     0.031471\n",
       "std      0.569525\n",
       "min     -0.453632\n",
       "25%     -0.315935\n",
       "50%     -0.020400\n",
       "75%     -0.001344\n",
       "max      1.452674\n",
       "dtype: float64"
      ]
     },
     "execution_count": 31,
     "metadata": {},
     "output_type": "execute_result"
    }
   ],
   "source": [
    "pd.Series(model.coef_.flatten()).describe()"
   ]
  },
  {
   "cell_type": "code",
   "execution_count": 32,
   "metadata": {},
   "outputs": [
    {
     "name": "stdout",
     "output_type": "stream",
     "text": [
      "Best params: {'alpha': 0.00545559478116852}\n",
      "Best score : 0.9991433959373464\n",
      "RMSE train: 0.007955067686429285\n",
      "RMSE test : 0.017773047767160495\n"
     ]
    }
   ],
   "source": [
    "# 3. lasso \n",
    "# max_iter = 1000, if not enough better increase alpha to proceed, \n",
    "# but not increase max_iter, as it mostly won't help much on the slow convergence. \n",
    "grid_param = [{'alpha': np.logspace(-3, 4, 20)}] \n",
    "\n",
    "gs = GridSearchCV(estimator=linear_model.Lasso(random_state=rs_const, normalize=False), param_grid=grid_param, cv=5)\n",
    "\n",
    "gs.fit(X_train_std, y_train)\n",
    "\n",
    "#cv_results_, grid_scores_ (to obsolete), best_estimator_, best_params_, best_score_\n",
    "print('Best params: {}'.format(gs.best_params_))\n",
    "print('Best score : {}'.format(gs.best_score_))\n",
    "#print('')\n",
    "model = gs.best_estimator_\n",
    "print(\"RMSE train: {}\".format(rmse(y_train, model.predict(X_train_std))))\n",
    "print(\"RMSE test : {}\".format(rmse(y_test,  model.predict(X_test_std))))"
   ]
  },
  {
   "cell_type": "code",
   "execution_count": 33,
   "metadata": {},
   "outputs": [
    {
     "data": {
      "text/plain": [
       "0.2222222222222222"
      ]
     },
     "execution_count": 33,
     "metadata": {},
     "output_type": "execute_result"
    }
   ],
   "source": [
    "sum(model.coef_ > 1e-6) / model.coef_.shape[0]\n"
   ]
  },
  {
   "cell_type": "code",
   "execution_count": 12,
   "metadata": {},
   "outputs": [
    {
     "name": "stdout",
     "output_type": "stream",
     "text": [
      "Best params: {'alpha': 0.01, 'l1_ratio': 1.0}\n",
      "Best score : 0.9974191917731062\n",
      "RMSE train: 0.014241691197823524\n",
      "RMSE test : 0.0303213663359907\n"
     ]
    }
   ],
   "source": [
    "# 4. ElasticNet\n",
    "grid_param = [{'alpha': np.logspace(-2, 4, 20), 'l1_ratio': np.linspace(0.015, 1, 20)}]\n",
    "\n",
    "# Confirmed that setting scoring='neg_mean_squared_error' is the same result as using the default \"R2\" score.\n",
    "gs = GridSearchCV(estimator=linear_model.ElasticNet(random_state=rs_const), param_grid=grid_param, cv=5)\n",
    "\n",
    "gs.fit(X_train_std, y_train)\n",
    "\n",
    "#cv_results_, grid_scores_ (to obsolete), best_estimator_, best_params_, best_score_\n",
    "print('Best params: {}'.format(gs.best_params_))\n",
    "print('Best score : {}'.format(gs.best_score_))\n",
    "#print('')\n",
    "model = gs.best_estimator_\n",
    "print(\"RMSE train: {}\".format(rmse(y_train, model.predict(X_train_std))))\n",
    "print(\"RMSE test : {}\".format(rmse(y_test,  model.predict(X_test_std))))\n"
   ]
  },
  {
   "cell_type": "code",
   "execution_count": 13,
   "metadata": {},
   "outputs": [
    {
     "data": {
      "text/plain": [
       "0.2222222222222222"
      ]
     },
     "execution_count": 13,
     "metadata": {},
     "output_type": "execute_result"
    }
   ],
   "source": [
    "sum(model.coef_ > 1e-6) / model.coef_.shape[0]\n"
   ]
  },
  {
   "cell_type": "code",
   "execution_count": 14,
   "metadata": {},
   "outputs": [
    {
     "name": "stdout",
     "output_type": "stream",
     "text": [
      "Best params: {}\n",
      "Best score : -1.0100442320349767\n",
      "RMSE train: 0.006250884932022714\n",
      "RMSE test : 0.8756029135534529\n"
     ]
    }
   ],
   "source": [
    "\n",
    "grid_param = [{}]\n",
    "\n",
    "# Step\n",
    "#learning_rate:0.1 -> 0.05 -> 0.01 -> 0.005 ->... 0.005 best\n",
    "#n_estimators: 140 -> 280  -> 1000 -> 2000  ->... 3000 best\n",
    "\n",
    "gs = GridSearchCV(estimator = GradientBoostingRegressor(\\\n",
    "                                    learning_rate=0.005,\\\n",
    "                                    n_estimators=3000,\\\n",
    "                                    max_depth=5,\\\n",
    "                                    min_samples_split=7,\\\n",
    "                                    min_samples_leaf=1,\\\n",
    "                                    max_features='sqrt',\\\n",
    "                                    subsample=0.88,\\\n",
    "                                    random_state=rs_const), \\\n",
    "                                    param_grid = grid_param,\\\n",
    "                                    n_jobs=4, cv=5)  \n",
    "\n",
    "gs.fit(X_train, y_train)\n",
    "\n",
    "#cv_results_, grid_scores_ (to obsolete), best_estimator_, best_params_, best_score_\n",
    "print('Best params: {}'.format(gs.best_params_))\n",
    "print('Best score : {}'.format(gs.best_score_))\n",
    "#print('')\n",
    "model = gs.best_estimator_\n",
    "print(\"RMSE train: {}\".format(rmse(y_train, model.predict(X_train))))\n",
    "print(\"RMSE test : {}\".format(rmse(y_test,  model.predict(X_test))))"
   ]
  },
  {
   "cell_type": "code",
   "execution_count": 15,
   "metadata": {},
   "outputs": [
    {
     "name": "stdout",
     "output_type": "stream",
     "text": [
      "RMSE train: 0.09806380101590878\n",
      "RMSE test : 0.8935118577554058\n"
     ]
    }
   ],
   "source": [
    "model = GradientBoostingRegressor(\\\n",
    "                                    learning_rate=0.005,\\\n",
    "                                    n_estimators=1000,\\\n",
    "                                    max_depth=5,\\\n",
    "                                    min_samples_split=7,\\\n",
    "                                    min_samples_leaf=1,\\\n",
    "                                    max_features='sqrt',\\\n",
    "                                    subsample=0.88,\\\n",
    "                                    random_state=rs_const)\n",
    "model.fit(X_train, y_train)\n",
    "\n",
    "print(\"RMSE train: {}\".format(rmse(y_train, model.predict(X_train))))\n",
    "print(\"RMSE test : {}\".format(rmse(y_test,  model.predict(X_test))))"
   ]
  },
  {
   "cell_type": "code",
   "execution_count": 16,
   "metadata": {},
   "outputs": [
    {
     "name": "stdout",
     "output_type": "stream",
     "text": [
      "sqrt total feature: 3.0\n",
      "40% of total feature: 3.6\n"
     ]
    }
   ],
   "source": [
    "print('sqrt total feature: {}'.format(math.sqrt(X_train.columns.shape[0])))\n",
    "print('40% of total feature: {}'.format(X_train.columns.shape[0] * 0.4))"
   ]
  },
  {
   "cell_type": "code",
   "execution_count": 17,
   "metadata": {},
   "outputs": [
    {
     "data": {
      "text/plain": [
       "<AxesSubplot:xlabel='feature_importance', ylabel='index'>"
      ]
     },
     "execution_count": 17,
     "metadata": {},
     "output_type": "execute_result"
    },
    {
     "data": {
      "image/png": "[encoded data removed]",
      "text/plain": [
       "<Figure size 864x648 with 1 Axes>"
      ]
     },
     "metadata": {
      "needs_background": "light"
     },
     "output_type": "display_data"
    }
   ],
   "source": [
    "varImp = pd.DataFrame({'index':X_train.columns, 'feature_importance':model.feature_importances_})\n",
    "varImp.sort_values(by='feature_importance', ascending=False, inplace=True)\n",
    "f, ax = plt.subplots(1, 1, figsize=[12, 9])\n",
    "sns.barplot(x = 'feature_importance', y = 'index', data = varImp.iloc[:9,], ax = ax)\n"
   ]
  },
  {
   "cell_type": "code",
   "execution_count": 18,
   "metadata": {},
   "outputs": [
    {
     "name": "stdout",
     "output_type": "stream",
     "text": [
      "Best params: {}\n",
      "Best score : -2.163539058701738\n",
      "RMSE train: 0.7966623371643529\n",
      "RMSE test : 1.0491319551905658\n"
     ]
    }
   ],
   "source": [
    "grid_param = [{}]\n",
    "\n",
    "gs = GridSearchCV(estimator = RandomForestRegressor(\\\n",
    "                                    max_features=9,\\\n",
    "                                    n_estimators=200,\\\n",
    "                                    min_samples_split=5,\\\n",
    "                                    min_samples_leaf=1,\\\n",
    "                                    random_state=rs_const,\\\n",
    "                                    n_jobs=-1),\\\n",
    "                  param_grid = grid_param, n_jobs=-1, cv=5)  \n",
    "\n",
    "gs.fit(X_train, y_train)\n",
    "\n",
    "#cv_results_, grid_scores_ (to obsolete), best_estimator_, best_params_, best_score_\n",
    "print('Best params: {}'.format(gs.best_params_))\n",
    "print('Best score : {}'.format(gs.best_score_))\n",
    "#print('')\n",
    "model = gs.best_estimator_\n",
    "print(\"RMSE train: {}\".format(rmse(y_train, model.predict(X_train))))\n",
    "print(\"RMSE test : {}\".format(rmse(y_test,  model.predict(X_test))))\n"
   ]
  },
  {
   "cell_type": "code",
   "execution_count": 19,
   "metadata": {},
   "outputs": [
    {
     "data": {
      "text/plain": [
       "RandomForestRegressor(max_features=9, min_samples_split=5, n_estimators=200,\n",
       "                      n_jobs=-1, random_state=80)"
      ]
     },
     "metadata": {},
     "output_type": "display_data"
    }
   ],
   "source": [
    "display(model)\n"
   ]
  },
  {
   "cell_type": "code",
   "execution_count": 20,
   "metadata": {},
   "outputs": [
    {
     "data": {
      "text/plain": [
       "<AxesSubplot:xlabel='feature_importance', ylabel='index'>"
      ]
     },
     "execution_count": 20,
     "metadata": {},
     "output_type": "execute_result"
    },
    {
     "data": {
      "image/png": "[encoded data removed]",
      "text/plain": [
       "<Figure size 864x648 with 1 Axes>"
      ]
     },
     "metadata": {
      "needs_background": "light"
     },
     "output_type": "display_data"
    }
   ],
   "source": [
    "varImp = pd.DataFrame({'index':X_train.columns, 'feature_importance':model.feature_importances_})\n",
    "varImp.sort_values(by='feature_importance', ascending=False, inplace=True)\n",
    "f, ax = plt.subplots(1, 1, figsize=[12, 9])\n",
    "sns.barplot(x = 'feature_importance', y = 'index', data = varImp.iloc[:9,], ax = ax)\n"
   ]
  },
  {
   "cell_type": "code",
   "execution_count": 21,
   "metadata": {
    "scrolled": false
   },
   "outputs": [
    {
     "name": "stdout",
     "output_type": "stream",
     "text": [
      "RMSE train: 0.786487206742516\n",
      "RMSE test : 1.1569029033047566\n"
     ]
    },
    {
     "data": {
      "text/plain": [
       "<AxesSubplot:xlabel='feature_importance', ylabel='index'>"
      ]
     },
     "execution_count": 21,
     "metadata": {},
     "output_type": "execute_result"
    },
    {
     "data": {
      "image/png": "[encoded data removed]",
      "text/plain": [
       "<Figure size 864x648 with 1 Axes>"
      ]
     },
     "metadata": {
      "needs_background": "light"
     },
     "output_type": "display_data"
    }
   ],
   "source": [
    "# RF best/try:\n",
    "model = RandomForestRegressor(\\\n",
    "            max_features=3,\\\n",
    "            n_estimators=200,\\\n",
    "            min_samples_split=5,\\\n",
    "            min_samples_leaf=1,\\\n",
    "            random_state=rs_const,\\\n",
    "            n_jobs=-1)\n",
    "\n",
    "model.fit(X_train, y_train)\n",
    "print(\"RMSE train: {}\".format(rmse(y_train, model.predict(X_train))))\n",
    "print(\"RMSE test : {}\".format(rmse(y_test,  model.predict(X_test))))\n",
    "\n",
    "varImp = pd.DataFrame({'index':X_train.columns, 'feature_importance':model.feature_importances_})\n",
    "varImp.sort_values(by='feature_importance', ascending=False, inplace=True)\n",
    "f, ax = plt.subplots(1, 1, figsize=[12, 9])\n",
    "sns.barplot(x = 'feature_importance', y = 'index', data = varImp.iloc[:9,], ax = ax)"
   ]
  },
  {
   "cell_type": "code",
   "execution_count": 22,
   "metadata": {},
   "outputs": [],
   "source": [
    "# best multi model stacking: \n",
    "models = [\n",
    "    # linear model\n",
    "    #linear_model.Lasso(alpha=0.00545559478116852, random_state=rs_const),\n",
    "    linear_model.ElasticNet(alpha=0.01, l1_ratio=1.0, random_state=rs_const),\n",
    " \n",
    "    # conservative random forst model\n",
    "#     RandomForestRegressor(\\\n",
    "#                         max_depth=5,\\\n",
    "#                         max_features='sqrt',\\\n",
    "#                         n_estimators=1000,\\\n",
    "#                         random_state=rs_const,\\\n",
    "#                         n_jobs=-1),\n",
    "    \n",
    "    RandomForestRegressor(\\\n",
    "                        max_features=70,\\\n",
    "                        n_estimators=200,\\\n",
    "                        min_samples_split=5,\\\n",
    "                        min_samples_leaf=1,\\\n",
    "                        random_state=rs_const,\\\n",
    "                        n_jobs=-1),\n",
    "#     RandomForestRegressor(\\\n",
    "#                         max_depth=None,\\\n",
    "#                         max_features=80,\\\n",
    "#                         n_estimators=170,\\\n",
    "#                         random_state=rs_const,\\\n",
    "#                         n_jobs=-1),\n",
    "    \n",
    "    # conservative gbm model\n",
    "#     GradientBoostingRegressor(\\\n",
    "#                         learning_rate=0.005,\\\n",
    "#                         n_estimators=3000,\\\n",
    "#                         max_depth=2,\\\n",
    "#                         min_samples_split=40,\\\n",
    "#                         min_samples_leaf=10,\\\n",
    "#                         max_features=120,\\\n",
    "#                         subsample=0.8,\\\n",
    "#                         random_state=rs_const),\n",
    "    \n",
    "    GradientBoostingRegressor(\\\n",
    "                        learning_rate=0.005,\\\n",
    "                        n_estimators=3000,\\\n",
    "                        max_depth=5,\\\n",
    "                        min_samples_split=7,\\\n",
    "                        min_samples_leaf=1,\\\n",
    "                        max_features='sqrt',\\\n",
    "                        subsample=0.8,\\\n",
    "                        random_state=rs_const)\n",
    "    \n",
    "#     GradientBoostingRegressor(\\\n",
    "#                         learning_rate=0.01,\\\n",
    "#                         n_estimators=2000,\\\n",
    "#                         max_depth=5,\\\n",
    "#                         min_samples_split=28,\\\n",
    "#                         min_samples_leaf=3,\\\n",
    "#                         max_features=63,\\\n",
    "#                         subsample=0.8,\\\n",
    "#                         random_state=rs_const)\n",
    "    ]\n",
    "\n",
    "meta_model = linear_model.LinearRegression(normalize=False) # normalize=True: almost the same"
   ]
  },
  {
   "cell_type": "code",
   "execution_count": 23,
   "metadata": {},
   "outputs": [
    {
     "name": "stdout",
     "output_type": "stream",
     "text": [
      "For log severity score: \n",
      "RMSE train: 0.014241691197823524\n",
      "RMSE test : 0.0303213663359907\n",
      "\n",
      "For actual severity score: \n",
      "RMSE train: 40.47214237732692\n",
      "RMSE test : 3.1735897097795256\n",
      "Wall time: 8 ms\n"
     ]
    }
   ],
   "source": [
    "%%time \n",
    "# Single model selection: best Lasso:\n",
    "model = linear_model.ElasticNet(alpha=0.01, l1_ratio=1.0, random_state=rs_const)\n",
    "\n",
    "model.fit(X_train_std, y_train)\n",
    "\n",
    "final_train_prediction = model.predict(X_train_std)\n",
    "final_test_prediction  = model.predict(X_test_std)\n",
    "\n",
    "print(\"For log severity score: \")\n",
    "print(\"RMSE train: {}\".format(rmse(y_train, final_train_prediction)))\n",
    "print(\"RMSE test : {}\".format(rmse(y_test,  final_test_prediction)))\n",
    "print(\"\")\n",
    "print(\"For actual severity score: \")\n",
    "print(\"RMSE train: {}\".format(rmse(np.expm1(y_train), np.expm1(final_train_prediction))))\n",
    "print(\"RMSE test : {}\".format(rmse(np.expm1(y_test),  np.expm1(final_test_prediction))))"
   ]
  },
  {
   "cell_type": "code",
   "execution_count": 12,
   "metadata": {},
   "outputs": [],
   "source": [
    "scaler = StandardScaler()\n",
    "scaler.fit(train_data)\n",
    "\n",
    "train_data_std = scaler.transform(train_data)\n",
    "test_data_std  = scaler.transform(test_data)"
   ]
  },
  {
   "cell_type": "code",
   "execution_count": 13,
   "metadata": {
    "scrolled": false
   },
   "outputs": [
    {
     "data": {
      "text/plain": [
       "<AxesSubplot:xlabel='feature_importance', ylabel='index'>"
      ]
     },
     "execution_count": 13,
     "metadata": {},
     "output_type": "execute_result"
    },
    {
     "data": {
      "image/png": "[encoded data removed]",
      "text/plain": [
       "<Figure size 864x648 with 1 Axes>"
      ]
     },
     "metadata": {
      "needs_background": "light"
     },
     "output_type": "display_data"
    }
   ],
   "source": [
    "model = linear_model.ElasticNet(alpha=0.01, l1_ratio=1.0, random_state=rs_const)\n",
    "#model = linear_model.Lasso(alpha=0.00545559478116852, random_state=rs_const)\n",
    "\n",
    "model.fit(X_train, y_train)\n",
    "\n",
    "varImp = pd.DataFrame({'index':X_train.columns, 'feature_importance':model.coef_})\n",
    "varImp.sort_values(by='feature_importance', ascending=False, inplace=True)\n",
    "f, ax = plt.subplots(1, 1, figsize=[12, 9])\n",
    "sns.barplot(x = 'feature_importance', y = 'index', data = varImp.iloc[:9,], ax = ax)"
   ]
  },
  {
   "cell_type": "code",
   "execution_count": 14,
   "metadata": {},
   "outputs": [
    {
     "name": "stdout",
     "output_type": "stream",
     "text": [
      "For log severity score: \n",
      "RMSE train: 0.013219639611315885\n",
      "\n",
      "For actual severity score: \n",
      "RMSE train: 44.412384058338894\n"
     ]
    }
   ],
   "source": [
    "# These 2 linear models (ElasticNet and Lasso) seems to be good to predict score and output very similar results\n",
    "\n",
    "model = linear_model.ElasticNet(alpha=0.01, l1_ratio=1.0, random_state=rs_const)\n",
    "#model = linear_model.Lasso(alpha=0.00545559478116852, random_state=rs_const)\n",
    "\n",
    "\n",
    "model.fit(train_data_std, train_target)\n",
    "\n",
    "final_train_prediction = model.predict(train_data_std)\n",
    "final_test_prediction  = model.predict(test_data_std)\n",
    "\n",
    "print(\"For log severity score: \")\n",
    "print(\"RMSE train: {}\".format(rmse(train_target, final_train_prediction)))\n",
    "print(\"\")\n",
    "print(\"For actual severity score: \")\n",
    "print(\"RMSE train: {}\".format(rmse(np.expm1(train_target), np.expm1(final_train_prediction))))"
   ]
  },
  {
   "cell_type": "code",
   "execution_count": 20,
   "metadata": {},
   "outputs": [
    {
     "data": {
      "text/html": [
       "<div>\n",
       "<style scoped>\n",
       "    .dataframe tbody tr th:only-of-type {\n",
       "        vertical-align: middle;\n",
       "    }\n",
       "\n",
       "    .dataframe tbody tr th {\n",
       "        vertical-align: top;\n",
       "    }\n",
       "\n",
       "    .dataframe thead th {\n",
       "        text-align: right;\n",
       "    }\n",
       "</style>\n",
       "<table border=\"1\" class=\"dataframe\">\n",
       "  <thead>\n",
       "    <tr style=\"text-align: right;\">\n",
       "      <th></th>\n",
       "      <th>name</th>\n",
       "      <th>sexe</th>\n",
       "      <th>age</th>\n",
       "      <th>general health</th>\n",
       "      <th>ease of activity</th>\n",
       "      <th>breathing problem</th>\n",
       "      <th>fatigue</th>\n",
       "      <th>overall pain</th>\n",
       "      <th>concentration</th>\n",
       "      <th>sleep quality</th>\n",
       "      <th>severity score</th>\n",
       "    </tr>\n",
       "  </thead>\n",
       "  <tbody>\n",
       "    <tr>\n",
       "      <th>0</th>\n",
       "      <td>Francoise</td>\n",
       "      <td>1</td>\n",
       "      <td>75</td>\n",
       "      <td>5</td>\n",
       "      <td>3</td>\n",
       "      <td>8</td>\n",
       "      <td>8</td>\n",
       "      <td>4</td>\n",
       "      <td>3</td>\n",
       "      <td>9</td>\n",
       "      <td>6.20</td>\n",
       "    </tr>\n",
       "    <tr>\n",
       "      <th>1</th>\n",
       "      <td>Paul</td>\n",
       "      <td>0</td>\n",
       "      <td>59</td>\n",
       "      <td>7</td>\n",
       "      <td>7</td>\n",
       "      <td>3</td>\n",
       "      <td>3</td>\n",
       "      <td>3</td>\n",
       "      <td>6</td>\n",
       "      <td>4</td>\n",
       "      <td>3.45</td>\n",
       "    </tr>\n",
       "    <tr>\n",
       "      <th>2</th>\n",
       "      <td>Antoine</td>\n",
       "      <td>0</td>\n",
       "      <td>50</td>\n",
       "      <td>6</td>\n",
       "      <td>5</td>\n",
       "      <td>4</td>\n",
       "      <td>4</td>\n",
       "      <td>3</td>\n",
       "      <td>7</td>\n",
       "      <td>8</td>\n",
       "      <td>3.85</td>\n",
       "    </tr>\n",
       "    <tr>\n",
       "      <th>3</th>\n",
       "      <td>Daniela</td>\n",
       "      <td>1</td>\n",
       "      <td>25</td>\n",
       "      <td>8</td>\n",
       "      <td>8</td>\n",
       "      <td>0</td>\n",
       "      <td>1</td>\n",
       "      <td>1</td>\n",
       "      <td>10</td>\n",
       "      <td>9</td>\n",
       "      <td>1.35</td>\n",
       "    </tr>\n",
       "    <tr>\n",
       "      <th>4</th>\n",
       "      <td>Jules</td>\n",
       "      <td>0</td>\n",
       "      <td>21</td>\n",
       "      <td>8</td>\n",
       "      <td>9</td>\n",
       "      <td>1</td>\n",
       "      <td>4</td>\n",
       "      <td>3</td>\n",
       "      <td>7</td>\n",
       "      <td>8</td>\n",
       "      <td>2.85</td>\n",
       "    </tr>\n",
       "    <tr>\n",
       "      <th>5</th>\n",
       "      <td>Marc</td>\n",
       "      <td>0</td>\n",
       "      <td>28</td>\n",
       "      <td>8</td>\n",
       "      <td>5</td>\n",
       "      <td>2</td>\n",
       "      <td>5</td>\n",
       "      <td>0</td>\n",
       "      <td>7</td>\n",
       "      <td>3</td>\n",
       "      <td>4.70</td>\n",
       "    </tr>\n",
       "    <tr>\n",
       "      <th>6</th>\n",
       "      <td>Bob</td>\n",
       "      <td>0</td>\n",
       "      <td>19</td>\n",
       "      <td>9</td>\n",
       "      <td>10</td>\n",
       "      <td>1</td>\n",
       "      <td>1</td>\n",
       "      <td>2</td>\n",
       "      <td>7</td>\n",
       "      <td>8</td>\n",
       "      <td>1.00</td>\n",
       "    </tr>\n",
       "    <tr>\n",
       "      <th>7</th>\n",
       "      <td>Emma</td>\n",
       "      <td>1</td>\n",
       "      <td>64</td>\n",
       "      <td>6</td>\n",
       "      <td>3</td>\n",
       "      <td>3</td>\n",
       "      <td>3</td>\n",
       "      <td>8</td>\n",
       "      <td>7</td>\n",
       "      <td>9</td>\n",
       "      <td>3.50</td>\n",
       "    </tr>\n",
       "    <tr>\n",
       "      <th>8</th>\n",
       "      <td>Patrick</td>\n",
       "      <td>0</td>\n",
       "      <td>83</td>\n",
       "      <td>3</td>\n",
       "      <td>0</td>\n",
       "      <td>10</td>\n",
       "      <td>10</td>\n",
       "      <td>9</td>\n",
       "      <td>2</td>\n",
       "      <td>4</td>\n",
       "      <td>8.80</td>\n",
       "    </tr>\n",
       "    <tr>\n",
       "      <th>9</th>\n",
       "      <td>Thomas</td>\n",
       "      <td>0</td>\n",
       "      <td>49</td>\n",
       "      <td>7</td>\n",
       "      <td>3</td>\n",
       "      <td>6</td>\n",
       "      <td>5</td>\n",
       "      <td>1</td>\n",
       "      <td>8</td>\n",
       "      <td>5</td>\n",
       "      <td>4.90</td>\n",
       "    </tr>\n",
       "    <tr>\n",
       "      <th>10</th>\n",
       "      <td>Stef</td>\n",
       "      <td>0</td>\n",
       "      <td>60</td>\n",
       "      <td>5</td>\n",
       "      <td>1</td>\n",
       "      <td>6</td>\n",
       "      <td>6</td>\n",
       "      <td>3</td>\n",
       "      <td>5</td>\n",
       "      <td>5</td>\n",
       "      <td>6.10</td>\n",
       "    </tr>\n",
       "    <tr>\n",
       "      <th>11</th>\n",
       "      <td>Julie</td>\n",
       "      <td>1</td>\n",
       "      <td>70</td>\n",
       "      <td>4</td>\n",
       "      <td>6</td>\n",
       "      <td>5</td>\n",
       "      <td>8</td>\n",
       "      <td>8</td>\n",
       "      <td>3</td>\n",
       "      <td>5</td>\n",
       "      <td>6.55</td>\n",
       "    </tr>\n",
       "    <tr>\n",
       "      <th>12</th>\n",
       "      <td>Lars</td>\n",
       "      <td>0</td>\n",
       "      <td>47</td>\n",
       "      <td>6</td>\n",
       "      <td>2</td>\n",
       "      <td>6</td>\n",
       "      <td>4</td>\n",
       "      <td>3</td>\n",
       "      <td>8</td>\n",
       "      <td>7</td>\n",
       "      <td>4.45</td>\n",
       "    </tr>\n",
       "    <tr>\n",
       "      <th>13</th>\n",
       "      <td>Alice</td>\n",
       "      <td>1</td>\n",
       "      <td>24</td>\n",
       "      <td>8</td>\n",
       "      <td>3</td>\n",
       "      <td>2</td>\n",
       "      <td>0</td>\n",
       "      <td>3</td>\n",
       "      <td>2</td>\n",
       "      <td>10</td>\n",
       "      <td>1.45</td>\n",
       "    </tr>\n",
       "  </tbody>\n",
       "</table>\n",
       "</div>"
      ],
      "text/plain": [
       "         name  sexe  age  general health  ease of activity  breathing problem  \\\n",
       "0   Francoise     1   75               5                 3                  8   \n",
       "1        Paul     0   59               7                 7                  3   \n",
       "2     Antoine     0   50               6                 5                  4   \n",
       "3     Daniela     1   25               8                 8                  0   \n",
       "4       Jules     0   21               8                 9                  1   \n",
       "5        Marc     0   28               8                 5                  2   \n",
       "6         Bob     0   19               9                10                  1   \n",
       "7        Emma     1   64               6                 3                  3   \n",
       "8     Patrick     0   83               3                 0                 10   \n",
       "9      Thomas     0   49               7                 3                  6   \n",
       "10       Stef     0   60               5                 1                  6   \n",
       "11      Julie     1   70               4                 6                  5   \n",
       "12       Lars     0   47               6                 2                  6   \n",
       "13      Alice     1   24               8                 3                  2   \n",
       "\n",
       "    fatigue  overall pain  concentration  sleep quality  severity score  \n",
       "0         8             4              3              9            6.20  \n",
       "1         3             3              6              4            3.45  \n",
       "2         4             3              7              8            3.85  \n",
       "3         1             1             10              9            1.35  \n",
       "4         4             3              7              8            2.85  \n",
       "5         5             0              7              3            4.70  \n",
       "6         1             2              7              8            1.00  \n",
       "7         3             8              7              9            3.50  \n",
       "8        10             9              2              4            8.80  \n",
       "9         5             1              8              5            4.90  \n",
       "10        6             3              5              5            6.10  \n",
       "11        8             8              3              5            6.55  \n",
       "12        4             3              8              7            4.45  \n",
       "13        0             3              2             10            1.45  "
      ]
     },
     "execution_count": 20,
     "metadata": {},
     "output_type": "execute_result"
    }
   ],
   "source": [
    "#final_test_prediction = np.expm1(final_test_prediction)\n",
    "\n",
    "final_submission = pd.DataFrame()\n",
    "final_submission['severity score'] = final_test_prediction\n",
    "test = pd.read_csv(\"train_handmade.csv\")\n",
    "test\n"
   ]
  },
  {
   "cell_type": "code",
   "execution_count": 19,
   "metadata": {},
   "outputs": [
    {
     "data": {
      "text/html": [
       "<div>\n",
       "<style scoped>\n",
       "    .dataframe tbody tr th:only-of-type {\n",
       "        vertical-align: middle;\n",
       "    }\n",
       "\n",
       "    .dataframe tbody tr th {\n",
       "        vertical-align: top;\n",
       "    }\n",
       "\n",
       "    .dataframe thead th {\n",
       "        text-align: right;\n",
       "    }\n",
       "</style>\n",
       "<table border=\"1\" class=\"dataframe\">\n",
       "  <thead>\n",
       "    <tr style=\"text-align: right;\">\n",
       "      <th></th>\n",
       "      <th>severity score</th>\n",
       "    </tr>\n",
       "  </thead>\n",
       "  <tbody>\n",
       "    <tr>\n",
       "      <th>0</th>\n",
       "      <td>6.387363</td>\n",
       "    </tr>\n",
       "    <tr>\n",
       "      <th>1</th>\n",
       "      <td>5.675805</td>\n",
       "    </tr>\n",
       "    <tr>\n",
       "      <th>2</th>\n",
       "      <td>5.402053</td>\n",
       "    </tr>\n",
       "    <tr>\n",
       "      <th>3</th>\n",
       "      <td>2.521333</td>\n",
       "    </tr>\n",
       "    <tr>\n",
       "      <th>4</th>\n",
       "      <td>8.032106</td>\n",
       "    </tr>\n",
       "    <tr>\n",
       "      <th>5</th>\n",
       "      <td>6.624454</td>\n",
       "    </tr>\n",
       "    <tr>\n",
       "      <th>6</th>\n",
       "      <td>6.291354</td>\n",
       "    </tr>\n",
       "    <tr>\n",
       "      <th>7</th>\n",
       "      <td>5.014510</td>\n",
       "    </tr>\n",
       "    <tr>\n",
       "      <th>8</th>\n",
       "      <td>5.066560</td>\n",
       "    </tr>\n",
       "    <tr>\n",
       "      <th>9</th>\n",
       "      <td>2.648724</td>\n",
       "    </tr>\n",
       "  </tbody>\n",
       "</table>\n",
       "</div>"
      ],
      "text/plain": [
       "   severity score\n",
       "0        6.387363\n",
       "1        5.675805\n",
       "2        5.402053\n",
       "3        2.521333\n",
       "4        8.032106\n",
       "5        6.624454\n",
       "6        6.291354\n",
       "7        5.014510\n",
       "8        5.066560\n",
       "9        2.648724"
      ]
     },
     "execution_count": 19,
     "metadata": {},
     "output_type": "execute_result"
    }
   ],
   "source": [
    "final_submission"
   ]
  },
  {
   "cell_type": "markdown",
   "metadata": {},
   "source": [
    "# What we obtain with the formula:\n",
    "\n",
    "50%(fatigue)+15%(10–mood) + 15%(10–ease of activity) + 20%(10–general health)\n",
    "\n",
    "MOOD IS CHANGED BY SLEEP QUALITY IN THE CALCUL OF THE FORMULA FOR THE MOMENT \n",
    "\n",
    "    severity score:     \n",
    "0 : 6.4 \\\n",
    "1 : 5.7 \\\n",
    "2 : 5.4\\\n",
    "3 : 2.5\\\n",
    "4 : 8.05\\\n",
    "5 : 6.65 \\\n",
    "6 : 6.3 \\\n",
    "7 : 5.05\\\n",
    "8 : 5.05\\\n",
    "9 : 2.65 "
   ]
  },
  {
   "cell_type": "markdown",
   "metadata": {},
   "source": [
    "# Try a classification approach !"
   ]
  },
  {
   "cell_type": "code",
   "execution_count": null,
   "metadata": {},
   "outputs": [],
   "source": []
  }
 ],
 "metadata": {
  "kernelspec": {
   "display_name": "Python 3 (ipykernel)",
   "language": "python",
   "name": "python3"
  },
  "language_info": {
   "codemirror_mode": {
    "name": "ipython",
    "version": 3
   },
   "file_extension": ".py",
   "mimetype": "text/x-python",
   "name": "python",
   "nbconvert_exporter": "python",
   "pygments_lexer": "ipython3",
   "version": "3.9.6"
  }
 },
 "nbformat": 4,
 "nbformat_minor": 4
}
