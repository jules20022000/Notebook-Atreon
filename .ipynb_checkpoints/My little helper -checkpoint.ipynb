{
 "cells": [
  {
   "cell_type": "markdown",
   "id": "7eeb5ab3",
   "metadata": {},
   "source": [
    "# ALGORITHMS TO DETECT KEY WORDS IN A TEXT SECTION "
   ]
  },
  {
   "cell_type": "markdown",
   "id": "815f6877",
   "metadata": {},
   "source": [
    "INSTALLER VISUAL STUDIO "
   ]
  },
  {
   "cell_type": "markdown",
   "id": "cee3796d",
   "metadata": {},
   "source": [
    "What we have to do ? \n",
    "\n",
    "Probably a keyword detection and then a keyword assignment to detect important word and then cluster them into more generals or equivalent words (ex : \"j'ai joue...\" --> \"loisirs\") and then conclude to give more advices for the patient."
   ]
  },
  {
   "cell_type": "markdown",
   "id": "5a9f241d",
   "metadata": {},
   "source": [
    "# First approach"
   ]
  },
  {
   "cell_type": "markdown",
   "id": "4438a58c",
   "metadata": {},
   "source": [
    "In my little helper, user enters a text on what helped them. With MonkeyLearn we can classify it into a \"subject\" (sport, relaxation, intellect. activity, etc...). And depending on age/menopause/activity/obesity of the user we put the \"subject\" into a list and propose this list ot user of same category."
   ]
  },
  {
   "cell_type": "markdown",
   "id": "f636fc9b",
   "metadata": {},
   "source": [
    "For ex:\n",
    "- an obese user said that an healthy food week was really good for him. \n",
    "- an old person --> some medications to sleep \n",
    "- a menopause woman --> running 3 days a week "
   ]
  },
  {
   "cell_type": "markdown",
   "id": "1729ceb1",
   "metadata": {},
   "source": [
    "So we classify the 1st person, given weight and size as an obese person. \\\n",
    "The 2nd one given its age into an old person.\\\n",
    "The 3rd one given age and sexe (or with a question maybe ?) into a menopaused woman "
   ]
  },
  {
   "cell_type": "markdown",
   "id": "691b01ed",
   "metadata": {},
   "source": [
    "Then we classify their text into subject : \\\n",
    "1st --> food\\\n",
    "2nd --> medications\\\n",
    "3rd --> sport"
   ]
  },
  {
   "cell_type": "code",
   "execution_count": 34,
   "id": "6af1425a",
   "metadata": {},
   "outputs": [],
   "source": [
    "obese_advises = [\"food\"]\n",
    "old_advises = [\"medications\"]\n",
    "menopause_advises = [\"sport\"]\n",
    "\n",
    "# another obese user said that talk to others people, maybe a group also in overweight, helped a lot \n",
    "# so its texte will be classified into another category called \"talk\" for ex\n",
    "obese_advises.append(\"talk\")\n",
    "\n",
    "\n"
   ]
  },
  {
   "cell_type": "markdown",
   "id": "8fd80e6a",
   "metadata": {},
   "source": [
    "So now when an obese person come to the application we can have a \"rubrique\" \"What helped people with similair symptoms.\" where we output the list FOOD, TALK.\n",
    "Same principe for others persons."
   ]
  },
  {
   "cell_type": "code",
   "execution_count": null,
   "id": "c188f977",
   "metadata": {},
   "outputs": [],
   "source": []
  }
 ],
 "metadata": {
  "kernelspec": {
   "display_name": "Python 3",
   "language": "python",
   "name": "python3"
  },
  "language_info": {
   "codemirror_mode": {
    "name": "ipython",
    "version": 3
   },
   "file_extension": ".py",
   "mimetype": "text/x-python",
   "name": "python",
   "nbconvert_exporter": "python",
   "pygments_lexer": "ipython3",
   "version": "3.8.8"
  }
 },
 "nbformat": 4,
 "nbformat_minor": 5
}
