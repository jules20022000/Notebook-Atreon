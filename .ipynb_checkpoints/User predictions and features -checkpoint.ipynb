{
 "cells": [
  {
   "cell_type": "code",
   "execution_count": 83,
   "id": "20ff8aa7",
   "metadata": {},
   "outputs": [
    {
     "data": {
      "text/html": [
       "<div>\n",
       "<style scoped>\n",
       "    .dataframe tbody tr th:only-of-type {\n",
       "        vertical-align: middle;\n",
       "    }\n",
       "\n",
       "    .dataframe tbody tr th {\n",
       "        vertical-align: top;\n",
       "    }\n",
       "\n",
       "    .dataframe thead th {\n",
       "        text-align: right;\n",
       "    }\n",
       "</style>\n",
       "<table border=\"1\" class=\"dataframe\">\n",
       "  <thead>\n",
       "    <tr style=\"text-align: right;\">\n",
       "      <th></th>\n",
       "      <th>day</th>\n",
       "      <th>sexe</th>\n",
       "      <th>age</th>\n",
       "      <th>breathing problem</th>\n",
       "      <th>overall pain</th>\n",
       "      <th>concentration</th>\n",
       "      <th>severity score</th>\n",
       "      <th>MLL</th>\n",
       "    </tr>\n",
       "  </thead>\n",
       "  <tbody>\n",
       "    <tr>\n",
       "      <th>0</th>\n",
       "      <td>1</td>\n",
       "      <td>0</td>\n",
       "      <td>56</td>\n",
       "      <td>8</td>\n",
       "      <td>6</td>\n",
       "      <td>7</td>\n",
       "      <td>7.05</td>\n",
       "      <td>NaN</td>\n",
       "    </tr>\n",
       "    <tr>\n",
       "      <th>1</th>\n",
       "      <td>2</td>\n",
       "      <td>0</td>\n",
       "      <td>56</td>\n",
       "      <td>7</td>\n",
       "      <td>6</td>\n",
       "      <td>7</td>\n",
       "      <td>6.05</td>\n",
       "      <td>Yoga</td>\n",
       "    </tr>\n",
       "    <tr>\n",
       "      <th>2</th>\n",
       "      <td>3</td>\n",
       "      <td>0</td>\n",
       "      <td>56</td>\n",
       "      <td>5</td>\n",
       "      <td>5</td>\n",
       "      <td>8</td>\n",
       "      <td>4.90</td>\n",
       "      <td>Medoc</td>\n",
       "    </tr>\n",
       "    <tr>\n",
       "      <th>3</th>\n",
       "      <td>4</td>\n",
       "      <td>0</td>\n",
       "      <td>56</td>\n",
       "      <td>5</td>\n",
       "      <td>5</td>\n",
       "      <td>6</td>\n",
       "      <td>5.20</td>\n",
       "      <td>NaN</td>\n",
       "    </tr>\n",
       "    <tr>\n",
       "      <th>4</th>\n",
       "      <td>5</td>\n",
       "      <td>0</td>\n",
       "      <td>56</td>\n",
       "      <td>7</td>\n",
       "      <td>7</td>\n",
       "      <td>5</td>\n",
       "      <td>6.00</td>\n",
       "      <td>NaN</td>\n",
       "    </tr>\n",
       "    <tr>\n",
       "      <th>5</th>\n",
       "      <td>6</td>\n",
       "      <td>0</td>\n",
       "      <td>56</td>\n",
       "      <td>5</td>\n",
       "      <td>5</td>\n",
       "      <td>6</td>\n",
       "      <td>4.00</td>\n",
       "      <td>NaN</td>\n",
       "    </tr>\n",
       "    <tr>\n",
       "      <th>6</th>\n",
       "      <td>7</td>\n",
       "      <td>0</td>\n",
       "      <td>56</td>\n",
       "      <td>3</td>\n",
       "      <td>4</td>\n",
       "      <td>5</td>\n",
       "      <td>3.55</td>\n",
       "      <td>Medoc</td>\n",
       "    </tr>\n",
       "    <tr>\n",
       "      <th>7</th>\n",
       "      <td>8</td>\n",
       "      <td>0</td>\n",
       "      <td>56</td>\n",
       "      <td>2</td>\n",
       "      <td>5</td>\n",
       "      <td>6</td>\n",
       "      <td>3.00</td>\n",
       "      <td>Medoc</td>\n",
       "    </tr>\n",
       "    <tr>\n",
       "      <th>8</th>\n",
       "      <td>9</td>\n",
       "      <td>0</td>\n",
       "      <td>56</td>\n",
       "      <td>1</td>\n",
       "      <td>4</td>\n",
       "      <td>5</td>\n",
       "      <td>2.85</td>\n",
       "      <td>Yoga</td>\n",
       "    </tr>\n",
       "    <tr>\n",
       "      <th>9</th>\n",
       "      <td>10</td>\n",
       "      <td>0</td>\n",
       "      <td>56</td>\n",
       "      <td>0</td>\n",
       "      <td>3</td>\n",
       "      <td>7</td>\n",
       "      <td>1.30</td>\n",
       "      <td>Yoga</td>\n",
       "    </tr>\n",
       "    <tr>\n",
       "      <th>10</th>\n",
       "      <td>11</td>\n",
       "      <td>0</td>\n",
       "      <td>56</td>\n",
       "      <td>6</td>\n",
       "      <td>6</td>\n",
       "      <td>5</td>\n",
       "      <td>6.60</td>\n",
       "      <td>Fumer</td>\n",
       "    </tr>\n",
       "    <tr>\n",
       "      <th>11</th>\n",
       "      <td>12</td>\n",
       "      <td>0</td>\n",
       "      <td>56</td>\n",
       "      <td>7</td>\n",
       "      <td>5</td>\n",
       "      <td>5</td>\n",
       "      <td>6.95</td>\n",
       "      <td>Fumer</td>\n",
       "    </tr>\n",
       "    <tr>\n",
       "      <th>12</th>\n",
       "      <td>13</td>\n",
       "      <td>0</td>\n",
       "      <td>56</td>\n",
       "      <td>6</td>\n",
       "      <td>6</td>\n",
       "      <td>4</td>\n",
       "      <td>6.34</td>\n",
       "      <td>Fumer</td>\n",
       "    </tr>\n",
       "  </tbody>\n",
       "</table>\n",
       "</div>"
      ],
      "text/plain": [
       "    day  sexe  age  breathing problem  overall pain  concentration  \\\n",
       "0     1     0   56                  8             6              7   \n",
       "1     2     0   56                  7             6              7   \n",
       "2     3     0   56                  5             5              8   \n",
       "3     4     0   56                  5             5              6   \n",
       "4     5     0   56                  7             7              5   \n",
       "5     6     0   56                  5             5              6   \n",
       "6     7     0   56                  3             4              5   \n",
       "7     8     0   56                  2             5              6   \n",
       "8     9     0   56                  1             4              5   \n",
       "9    10     0   56                  0             3              7   \n",
       "10   11     0   56                  6             6              5   \n",
       "11   12     0   56                  7             5              5   \n",
       "12   13     0   56                  6             6              4   \n",
       "\n",
       "    severity score    MLL  \n",
       "0             7.05    NaN  \n",
       "1             6.05   Yoga  \n",
       "2             4.90  Medoc  \n",
       "3             5.20    NaN  \n",
       "4             6.00    NaN  \n",
       "5             4.00    NaN  \n",
       "6             3.55  Medoc  \n",
       "7             3.00  Medoc  \n",
       "8             2.85   Yoga  \n",
       "9             1.30   Yoga  \n",
       "10            6.60  Fumer  \n",
       "11            6.95  Fumer  \n",
       "12            6.34  Fumer  "
      ]
     },
     "execution_count": 83,
     "metadata": {},
     "output_type": "execute_result"
    }
   ],
   "source": [
    "import numpy as np\n",
    "import pandas as pd\n",
    "import matplotlib.pyplot as plt\n",
    "from matplotlib import pyplot\n",
    "import sklearn.model_selection as ms\n",
    "from sklearn.model_selection import GridSearchCV, train_test_split\n",
    "from sklearn.ensemble import RandomForestRegressor\n",
    "from sklearn.metrics import accuracy_score\n",
    "from sklearn import linear_model\n",
    "\n",
    "import warnings\n",
    "warnings.filterwarnings('ignore')\n",
    "\n",
    "data = pd.read_csv(\"User_test.csv\", sep=\";\")\n",
    "data = data.drop([\"general health\", \"ease of activity\", \"fatigue\", \"sleep quality\"], axis=1)\n",
    "data "
   ]
  },
  {
   "cell_type": "code",
   "execution_count": 84,
   "id": "f51f5bfd",
   "metadata": {},
   "outputs": [
    {
     "data": {
      "image/png": "[encoded data removed]",
      "text/plain": [
       "<Figure size 432x288 with 1 Axes>"
      ]
     },
     "metadata": {
      "needs_background": "light"
     },
     "output_type": "display_data"
    }
   ],
   "source": [
    "data['severity score'].plot()\n",
    "plt.ylabel(\"Severity score\")\n",
    "plt.show()"
   ]
  },
  {
   "cell_type": "code",
   "execution_count": 85,
   "id": "bb5a61ff",
   "metadata": {},
   "outputs": [],
   "source": [
    "mll = pd.get_dummies(data[\"MLL\"])\n",
    "data = pd.concat([data, mll], axis=1).drop(\"MLL\", axis=1)"
   ]
  },
  {
   "cell_type": "code",
   "execution_count": 86,
   "id": "e23ec1c7",
   "metadata": {},
   "outputs": [],
   "source": [
    "test_ratio_const = 0.2\n",
    "rs_const = 80\n",
    "\n",
    "train_data = data.drop(\"severity score\", axis=1)\n",
    "train_target = data[[\"severity score\"]]\n",
    "\n",
    "X_train, X_test, y_train, y_test = train_test_split(train_data, train_target,\\\n",
    "                                                   test_size=test_ratio_const, random_state=rs_const)"
   ]
  },
  {
   "cell_type": "code",
   "execution_count": 87,
   "id": "47ebde63",
   "metadata": {},
   "outputs": [],
   "source": [
    "from sklearn.preprocessing import StandardScaler\n",
    "from sklearn.metrics import mean_squared_error\n",
    "\n",
    "def rmse(y, y_pred):\n",
    "    return np.sqrt(mean_squared_error(y, y_pred))\n",
    "\n",
    "scaler = StandardScaler()\n",
    "scaler.fit(X_train)\n",
    "\n",
    "X_train_std = scaler.transform(X_train)\n",
    "X_test_std  = scaler.transform(X_test)"
   ]
  },
  {
   "cell_type": "code",
   "execution_count": 88,
   "id": "b23e134c",
   "metadata": {},
   "outputs": [
    {
     "name": "stdout",
     "output_type": "stream",
     "text": [
      "Best params: {}\n",
      "Best score : -16.58367199985646\n",
      "RMSE train: 0.42483772331802644\n",
      "RMSE test : 1.1129459153477015\n"
     ]
    }
   ],
   "source": [
    "#grid_param = [{'alpha': np.logspace(-2, 4, 20), 'l1_ratio': np.linspace(0.015, 1, 20)}]\n",
    "grid_param = [{}]\n",
    "\n",
    "# Confirmed that setting scoring='neg_mean_squared_error' is the same result as using the default \"R2\" score.\n",
    "\n",
    "#gs = GridSearchCV(estimator=linear_model.ElasticNet(random_state=rs_const), param_grid=grid_param, cv=5)\n",
    "gs = GridSearchCV(estimator=RandomForestRegressor(n_estimators=200, max_depth=3, \n",
    "                                                  max_features=4, random_state=rs_const, n_jobs=-1), \n",
    "                  param_grid=grid_param, n_jobs=-1, cv=5)\n",
    "\n",
    "gs.fit(X_train_std, y_train)\n",
    "\n",
    "#cv_results_, grid_scores_ (to obsolete), best_estimator_, best_params_, best_score_\n",
    "print('Best params: {}'.format(gs.best_params_))\n",
    "print('Best score : {}'.format(gs.best_score_))\n",
    "#print('')\n",
    "model = gs.best_estimator_\n",
    "print(\"RMSE train: {}\".format(rmse(y_train, model.predict(X_train_std))))\n",
    "print(\"RMSE test : {}\".format(rmse(y_test,  model.predict(X_test_std))))"
   ]
  },
  {
   "cell_type": "code",
   "execution_count": 89,
   "id": "c97c74a9",
   "metadata": {},
   "outputs": [
    {
     "data": {
      "image/png": "[encoded data removed]",
      "text/plain": [
       "<Figure size 432x288 with 1 Axes>"
      ]
     },
     "metadata": {
      "needs_background": "light"
     },
     "output_type": "display_data"
    }
   ],
   "source": [
    "model = RandomForestRegressor(n_estimators=200, max_depth=3, max_features=4, random_state=rs_const, n_jobs=-1)\n",
    "#model = linear_model.ElasticNet(alpha=0.0206913808111479, l1_ratio=1.0, random_state=rs_const, )\n",
    "\n",
    "model.fit(X_train, y_train)\n",
    "\n",
    "y_pred = model.predict(X_test)\n",
    "\n",
    "y_pred_series = pd.Series(y_pred, index=y_test.index)\n",
    "\n",
    "y_pred_series.plot()\n",
    "plt.ylabel(\"Predicted Severity Score\")\n",
    "plt.show()"
   ]
  },
  {
   "cell_type": "code",
   "execution_count": 90,
   "id": "018af37c",
   "metadata": {},
   "outputs": [
    {
     "data": {
      "image/png": "[encoded data removed]",
      "text/plain": [
       "<Figure size 432x288 with 1 Axes>"
      ]
     },
     "metadata": {
      "needs_background": "light"
     },
     "output_type": "display_data"
    }
   ],
   "source": [
    "importances = model.feature_importances_\n",
    "sorted_index = np.argsort(importances)[::-1]\n",
    "x_values = range(len(importances))\n",
    "labels = np.array(X_train.columns)[sorted_index]\n",
    "plt.bar(x_values, importances[sorted_index], tick_label=labels)\n",
    "plt.xticks(rotation=90)\n",
    "plt.show()"
   ]
  },
  {
   "cell_type": "code",
   "execution_count": 91,
   "id": "b3c0a9e8",
   "metadata": {},
   "outputs": [
    {
     "name": "stdout",
     "output_type": "stream",
     "text": [
      "0.2386287238658279\n"
     ]
    }
   ],
   "source": [
    "print(model.score(X_test, y_test))"
   ]
  },
  {
   "cell_type": "markdown",
   "id": "e81baedf",
   "metadata": {},
   "source": [
    "# Output the list of advices from MLL"
   ]
  },
  {
   "cell_type": "code",
   "execution_count": 92,
   "id": "c28fbc93",
   "metadata": {},
   "outputs": [
    {
     "name": "stdout",
     "output_type": "stream",
     "text": [
      "Index(['Fumer', 'Medoc', 'Yoga'], dtype='object')\n",
      "[0 0 0]\n"
     ]
    }
   ],
   "source": [
    "data = pd.read_csv(\"User_test.csv\", sep=\";\")\n",
    "dummies = pd.get_dummies(data[\"MLL\"])\n",
    "data = pd.get_dummies(data, columns=[\"MLL\"], prefix_sep=\"\", prefix=\"\")\n",
    "\n",
    "print(dummies.columns)\n",
    "print(dummies.values[0])"
   ]
  },
  {
   "cell_type": "code",
   "execution_count": 93,
   "id": "7051d6a9",
   "metadata": {},
   "outputs": [
    {
     "data": {
      "text/plain": [
       "['Medoc', 'Yoga', 'Fumer']"
      ]
     },
     "execution_count": 93,
     "metadata": {},
     "output_type": "execute_result"
    }
   ],
   "source": [
    "list_advices = []\n",
    "prev_score = data[\"severity score\"][0]\n",
    "\n",
    "for i in range(1, data.shape[0]):\n",
    "    score = data[\"severity score\"][i]\n",
    "    prev_score = data[\"severity score\"][i - 1]\n",
    "    if (score < prev_score and (prev_score - score) >= 0.5):\n",
    "        for advice in dummies.columns:\n",
    "            if (data[advice][i] == 1):\n",
    "                list_advices.append(advice)\n",
    "    \n",
    "#delete duplicate \n",
    "list_advices = list(set(list_advices))\n",
    "list_advices"
   ]
  },
  {
   "cell_type": "markdown",
   "id": "e37c0e49",
   "metadata": {},
   "source": [
    "# Take 7 last inputs because effects of MLL are probably not immediatly visible"
   ]
  },
  {
   "cell_type": "code",
   "execution_count": 82,
   "id": "2c113b77",
   "metadata": {},
   "outputs": [
    {
     "data": {
      "text/plain": [
       "['Medoc']"
      ]
     },
     "execution_count": 82,
     "metadata": {},
     "output_type": "execute_result"
    }
   ],
   "source": [
    "list_advices = []\n",
    "threshold = 0.75\n",
    "\n",
    "j = 0\n",
    "solid_advice = 0\n",
    "for i in range(6, data.shape[0]):\n",
    "    score = data[\"severity score\"][i]\n",
    "    week_ago_score = data[\"severity score\"][j]\n",
    "    if ((week_ago_score - score) >= threshold):\n",
    "        for advice in dummies.columns:\n",
    "            for k in range(j, i + 1):\n",
    "                if (data[advice][k] == 1):\n",
    "                    solid_advice += 1\n",
    "                    if (solid_advice >= 3):\n",
    "                        list_advices.append(advice)\n",
    "            solid_advice = 0\n",
    "    j += 1\n",
    "    \n",
    "    \n",
    "#delete duplicate \n",
    "list_advices = list(set(list_advices))\n",
    "list_advices"
   ]
  },
  {
   "cell_type": "code",
   "execution_count": null,
   "id": "10135064",
   "metadata": {},
   "outputs": [],
   "source": []
  }
 ],
 "metadata": {
  "kernelspec": {
   "display_name": "Python 3 (ipykernel)",
   "language": "python",
   "name": "python3"
  },
  "language_info": {
   "codemirror_mode": {
    "name": "ipython",
    "version": 3
   },
   "file_extension": ".py",
   "mimetype": "text/x-python",
   "name": "python",
   "nbconvert_exporter": "python",
   "pygments_lexer": "ipython3",
   "version": "3.9.6"
  }
 },
 "nbformat": 4,
 "nbformat_minor": 5
}
