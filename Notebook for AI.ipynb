{
 "cells": [
  {
   "cell_type": "markdown",
   "metadata": {},
   "source": [
    "# Some Tips for JupyterNotebook : "
   ]
  },
  {
   "cell_type": "markdown",
   "metadata": {},
   "source": [
    "-Scroll up and down your cells with your Up and Down keys.\n",
    "\n",
    "-Press A or B to insert a new cell above or below the active cell.\n",
    "\n",
    "-M will transform the active cell to a Markdown cell.\n",
    "\n",
    "-Y will set the active cell to a code cell.\n",
    "\n",
    "-D + D (D twice) will delete the active cell.\n",
    "\n",
    "-Z will undo cell deletion.\n",
    "\n",
    "-Hold Shift and press Up or Down to select multiple cells at once. With multiple cells selected, Shift + M will merge your selection."
   ]
  },
  {
   "cell_type": "markdown",
   "metadata": {},
   "source": [
    "# Some tests for text and running code \n"
   ]
  },
  {
   "cell_type": "code",
   "execution_count": 1,
   "metadata": {
    "scrolled": true
   },
   "outputs": [
    {
     "name": "stdout",
     "output_type": "stream",
     "text": [
      "hello world !\n"
     ]
    }
   ],
   "source": [
    "print(\"hello world !\")"
   ]
  },
  {
   "cell_type": "code",
   "execution_count": 2,
   "metadata": {
    "scrolled": true
   },
   "outputs": [
    {
     "name": "stdout",
     "output_type": "stream",
     "text": [
      "3\n",
      "4\n",
      "5\n",
      "6\n",
      "7\n"
     ]
    }
   ],
   "source": [
    "x = 3\n",
    "for i in range(0, 5):\n",
    "    print(i + x) "
   ]
  },
  {
   "cell_type": "markdown",
   "metadata": {},
   "source": [
    "Salut text intermediaire "
   ]
  },
  {
   "cell_type": "code",
   "execution_count": 3,
   "metadata": {},
   "outputs": [],
   "source": [
    "import time \n",
    "time.sleep(3)"
   ]
  },
  {
   "cell_type": "markdown",
   "metadata": {},
   "source": [
    "Salut \n",
    "\n",
    "Je tape ce texte pour tester le Markdown \n",
    "\n",
    "Ca marche bien !"
   ]
  },
  {
   "cell_type": "code",
   "execution_count": 7,
   "metadata": {},
   "outputs": [
    {
     "name": "stdout",
     "output_type": "stream",
     "text": [
      "Bonjour comment ca va ? \n"
     ]
    }
   ],
   "source": [
    "string = \"Bonjour comment ca va ? \"\n",
    "print(string)"
   ]
  },
  {
   "cell_type": "markdown",
   "metadata": {},
   "source": [
    "# Algorithm(s) used for the AI part of the app \n"
   ]
  },
  {
   "cell_type": "code",
   "execution_count": 41,
   "metadata": {},
   "outputs": [
    {
     "name": "stdout",
     "output_type": "stream",
     "text": [
      "Rentrez votre fatigue2\n",
      "Rentrez votre douleur3\n",
      "Rentrez votre sommeil4\n",
      "Great job you seems to be good ! \n",
      "0\n"
     ]
    }
   ],
   "source": [
    "def input_score(string):\n",
    "    return int(input(\"Rentrez votre \" + string))\n",
    "\n",
    "fatigue = input_score(\"fatigue\")\n",
    "douleur = input_score(\"douleur\")\n",
    "sommeil = input_score(\"sommeil\")\n",
    "\n",
    "max_score = 10\n",
    "min_score = 0\n",
    "\n",
    "critical = 0\n",
    "\n",
    "\n",
    "if ((max_score - fatigue) < 2 or sommeil < 2 or (max_score - douleur) < 2):\n",
    "    critical = 1\n",
    "    print(\"You should try to do this or that \")\n",
    "elif (fatigue > 2 and fatigue < 5):\n",
    "    print(\"Keep going it s better\")\n",
    "else : \n",
    "    print(\"Great job you seems to be good ! \")\n",
    "\n",
    "print(critical)"
   ]
  },
  {
   "cell_type": "code",
   "execution_count": null,
   "metadata": {},
   "outputs": [],
   "source": []
  },
  {
   "cell_type": "code",
   "execution_count": null,
   "metadata": {},
   "outputs": [],
   "source": []
  }
 ],
 "metadata": {
  "kernelspec": {
   "display_name": "Python 3",
   "language": "python",
   "name": "python3"
  },
  "language_info": {
   "codemirror_mode": {
    "name": "ipython",
    "version": 3
   },
   "file_extension": ".py",
   "mimetype": "text/x-python",
   "name": "python",
   "nbconvert_exporter": "python",
   "pygments_lexer": "ipython3",
   "version": "3.8.3"
  }
 },
 "nbformat": 4,
 "nbformat_minor": 4
}
